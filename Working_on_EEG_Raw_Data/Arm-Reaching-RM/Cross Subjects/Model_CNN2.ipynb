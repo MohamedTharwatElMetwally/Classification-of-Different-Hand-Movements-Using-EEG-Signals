{
 "cells": [
  {
   "cell_type": "markdown",
   "metadata": {},
   "source": [
    "## Arm Reaching (RM Session 1)"
   ]
  },
  {
   "cell_type": "code",
   "execution_count": 1,
   "metadata": {
    "colab": {
     "base_uri": "https://localhost:8080/"
    },
    "id": "aITeIwSXXffW",
    "outputId": "a881459e-729d-4691-d14b-3f934411cbbb"
   },
   "outputs": [],
   "source": [
    "import os\n",
    "import glob\n",
    "import numpy as np\n",
    "import mne\n",
    "import pandas as pd\n",
    "import tensorflow as tf\n",
    "import matplotlib.pyplot as plt\n",
    "import warnings\n",
    "from pathlib import Path\n",
    "from sklearn.preprocessing import MinMaxScaler\n",
    "from sklearn.model_selection import train_test_split\n",
    "# from google.colab import drive\n",
    "# drive.mount('/content/drive')\n",
    "from scipy.io import loadmat\n",
    "from scipy.signal import butter, lfilter\n",
    "warnings.filterwarnings('ignore')"
   ]
  },
  {
   "cell_type": "code",
   "execution_count": 2,
   "metadata": {},
   "outputs": [
    {
     "data": {
      "text/plain": [
       "[PhysicalDevice(name='/physical_device:CPU:0', device_type='CPU')]"
      ]
     },
     "execution_count": 2,
     "metadata": {},
     "output_type": "execute_result"
    }
   ],
   "source": [
    "tf.config.list_physical_devices()"
   ]
  },
  {
   "cell_type": "code",
   "execution_count": 3,
   "metadata": {},
   "outputs": [
    {
     "data": {
      "text/plain": [
       "['Session_1_RM_Sub_10_arm_reaching_classes.fif',\n",
       " 'Session_1_RM_Sub_10_rest_class.fif',\n",
       " 'Session_1_RM_Sub_1_arm_reaching_classes.fif',\n",
       " 'Session_1_RM_Sub_1_rest_class.fif',\n",
       " 'Session_1_RM_Sub_2_arm_reaching_classes.fif',\n",
       " 'Session_1_RM_Sub_2_rest_class.fif',\n",
       " 'Session_1_RM_Sub_3_arm_reaching_classes.fif',\n",
       " 'Session_1_RM_Sub_3_rest_class.fif',\n",
       " 'Session_1_RM_Sub_4_arm_reaching_classes.fif',\n",
       " 'Session_1_RM_Sub_4_rest_class.fif',\n",
       " 'Session_1_RM_Sub_5_arm_reaching_classes.fif',\n",
       " 'Session_1_RM_Sub_5_rest_class.fif',\n",
       " 'Session_1_RM_Sub_6_arm_reaching_classes.fif',\n",
       " 'Session_1_RM_Sub_6_rest_class.fif',\n",
       " 'Session_1_RM_Sub_7_arm_reaching_classes.fif',\n",
       " 'Session_1_RM_Sub_7_rest_class.fif',\n",
       " 'Session_1_RM_Sub_8_arm_reaching_classes.fif',\n",
       " 'Session_1_RM_Sub_8_rest_class.fif',\n",
       " 'Session_1_RM_Sub_9_arm_reaching_classes.fif',\n",
       " 'Session_1_RM_Sub_9_rest_class.fif']"
      ]
     },
     "execution_count": 3,
     "metadata": {},
     "output_type": "execute_result"
    }
   ],
   "source": [
    "folder = r'converted data'\n",
    "files = os.listdir(folder)\n",
    "files"
   ]
  },
  {
   "cell_type": "code",
   "execution_count": 4,
   "metadata": {},
   "outputs": [
    {
     "name": "stdout",
     "output_type": "stream",
     "text": [
      "Reading d:\\EEG_RawData\\Arm-Reaching-RM\\Multiple subjects\\converted data\\Session_1_RM_Sub_10_arm_reaching_classes.fif ...\n",
      "    Found the data of interest:\n",
      "        t =    3000.00 ...    7000.00 ms\n",
      "        0 CTF compensation matrices available\n",
      "Not setting metadata\n",
      "300 matching events found\n",
      "No baseline correction applied\n",
      "0 projection items activated\n",
      "Reading d:\\EEG_RawData\\Arm-Reaching-RM\\Multiple subjects\\converted data\\Session_1_RM_Sub_1_arm_reaching_classes.fif ...\n",
      "    Found the data of interest:\n",
      "        t =    3000.00 ...    7000.00 ms\n",
      "        0 CTF compensation matrices available\n",
      "Not setting metadata\n",
      "300 matching events found\n",
      "No baseline correction applied\n",
      "0 projection items activated\n",
      "Reading d:\\EEG_RawData\\Arm-Reaching-RM\\Multiple subjects\\converted data\\Session_1_RM_Sub_2_arm_reaching_classes.fif ...\n",
      "    Found the data of interest:\n",
      "        t =    3000.00 ...    7000.00 ms\n",
      "        0 CTF compensation matrices available\n",
      "Not setting metadata\n",
      "300 matching events found\n",
      "No baseline correction applied\n",
      "0 projection items activated\n",
      "Reading d:\\EEG_RawData\\Arm-Reaching-RM\\Multiple subjects\\converted data\\Session_1_RM_Sub_3_arm_reaching_classes.fif ...\n",
      "    Found the data of interest:\n",
      "        t =    3000.00 ...    7000.00 ms\n",
      "        0 CTF compensation matrices available\n",
      "Not setting metadata\n",
      "300 matching events found\n",
      "No baseline correction applied\n",
      "0 projection items activated\n",
      "Reading d:\\EEG_RawData\\Arm-Reaching-RM\\Multiple subjects\\converted data\\Session_1_RM_Sub_4_arm_reaching_classes.fif ...\n",
      "    Found the data of interest:\n",
      "        t =    3000.00 ...    7000.00 ms\n",
      "        0 CTF compensation matrices available\n",
      "Not setting metadata\n",
      "300 matching events found\n",
      "No baseline correction applied\n",
      "0 projection items activated\n",
      "Reading d:\\EEG_RawData\\Arm-Reaching-RM\\Multiple subjects\\converted data\\Session_1_RM_Sub_5_arm_reaching_classes.fif ...\n",
      "    Found the data of interest:\n",
      "        t =    3000.00 ...    7000.00 ms\n",
      "        0 CTF compensation matrices available\n",
      "Not setting metadata\n",
      "300 matching events found\n",
      "No baseline correction applied\n",
      "0 projection items activated\n",
      "Reading d:\\EEG_RawData\\Arm-Reaching-RM\\Multiple subjects\\converted data\\Session_1_RM_Sub_6_arm_reaching_classes.fif ...\n",
      "    Found the data of interest:\n",
      "        t =    3000.00 ...    7000.00 ms\n",
      "        0 CTF compensation matrices available\n",
      "Not setting metadata\n",
      "300 matching events found\n",
      "No baseline correction applied\n",
      "0 projection items activated\n",
      "Reading d:\\EEG_RawData\\Arm-Reaching-RM\\Multiple subjects\\converted data\\Session_1_RM_Sub_7_arm_reaching_classes.fif ...\n",
      "    Found the data of interest:\n",
      "        t =    3000.00 ...    7000.00 ms\n",
      "        0 CTF compensation matrices available\n",
      "Not setting metadata\n",
      "300 matching events found\n",
      "No baseline correction applied\n",
      "0 projection items activated\n",
      "Reading d:\\EEG_RawData\\Arm-Reaching-RM\\Multiple subjects\\converted data\\Session_1_RM_Sub_8_arm_reaching_classes.fif ...\n",
      "    Found the data of interest:\n",
      "        t =    3000.00 ...    7000.00 ms\n",
      "        0 CTF compensation matrices available\n",
      "Not setting metadata\n",
      "300 matching events found\n",
      "No baseline correction applied\n",
      "0 projection items activated\n",
      "Reading d:\\EEG_RawData\\Arm-Reaching-RM\\Multiple subjects\\converted data\\Session_1_RM_Sub_9_arm_reaching_classes.fif ...\n",
      "    Found the data of interest:\n",
      "        t =    3000.00 ...    7000.00 ms\n",
      "        0 CTF compensation matrices available\n",
      "Not setting metadata\n",
      "300 matching events found\n",
      "No baseline correction applied\n",
      "0 projection items activated\n"
     ]
    }
   ],
   "source": [
    "decode = {11: 0, 21: 1, 31: 2, 41:3, 51: 4, 61: 5, 8 :6}\n",
    "labels = []\n",
    "\n",
    "data = []\n",
    "for file in files:\n",
    "    if file.__contains__('rest_class'):\n",
    "        continue\n",
    "\n",
    "    epochs = mne.read_epochs(os.path.join(folder,file))\n",
    "    epochs.pick_types(eeg=True)\n",
    "\n",
    "    # apply down sampling if needed\n",
    "    epochs.resample(sfreq=1250)\n",
    "\n",
    "    tmp_data = epochs.get_data()\n",
    "\n",
    "    if data==[]:\n",
    "        data = tmp_data\n",
    "    else:\n",
    "        data = np.concatenate((data, tmp_data), axis=0)\n",
    "\n",
    "    for i in epochs.events:\n",
    "        labels.append(decode[i[2]])\n"
   ]
  },
  {
   "cell_type": "code",
   "execution_count": 6,
   "metadata": {},
   "outputs": [],
   "source": [
    "channels = 32\n",
    "samples = 5000"
   ]
  },
  {
   "cell_type": "code",
   "execution_count": 7,
   "metadata": {},
   "outputs": [
    {
     "data": {
      "text/plain": [
       "(3000, 32, 5000)"
      ]
     },
     "execution_count": 7,
     "metadata": {},
     "output_type": "execute_result"
    }
   ],
   "source": [
    "data.shape"
   ]
  },
  {
   "cell_type": "code",
   "execution_count": 8,
   "metadata": {},
   "outputs": [
    {
     "data": {
      "text/plain": [
       "(3000,)"
      ]
     },
     "execution_count": 8,
     "metadata": {},
     "output_type": "execute_result"
    }
   ],
   "source": [
    "labels = np.array(labels)\n",
    "labels.shape"
   ]
  },
  {
   "cell_type": "code",
   "execution_count": 11,
   "metadata": {},
   "outputs": [],
   "source": [
    "X_train, X_val, y_train, y_val = train_test_split(data, labels, test_size = 0.2,stratify=labels,shuffle=True)"
   ]
  },
  {
   "cell_type": "code",
   "execution_count": 9,
   "metadata": {},
   "outputs": [],
   "source": [
    "# ind = np.argsort(y_train)\n",
    "# y_train = y_train[ind]\n",
    "# X_train = X_train[ind]"
   ]
  },
  {
   "cell_type": "code",
   "execution_count": 10,
   "metadata": {},
   "outputs": [],
   "source": [
    "# ind = np.argsort(y_val)\n",
    "# y_val = y_val[ind]\n",
    "# X_val = X_val[ind]"
   ]
  },
  {
   "cell_type": "code",
   "execution_count": 12,
   "metadata": {},
   "outputs": [],
   "source": [
    "y_train=tf.keras.utils.to_categorical(y_train,num_classes=6) \n",
    "y_val=tf.keras.utils.to_categorical(y_val,num_classes=6) "
   ]
  },
  {
   "cell_type": "code",
   "execution_count": 13,
   "metadata": {},
   "outputs": [],
   "source": [
    "# Normaliation\n",
    "# X_train = MinMaxScaler().fit_transform(X_train)\n",
    "# X_val = MinMaxScaler().fit_transform(X_val)\n",
    "X_train = (X_train-np.min(X_train))/(np.max(X_train)-np.min(X_train))\n",
    "X_val = (X_val-np.min(X_val))/(np.max(X_val)-np.min(X_val))"
   ]
  },
  {
   "cell_type": "code",
   "execution_count": 14,
   "metadata": {},
   "outputs": [],
   "source": [
    "def preprocess_input(eeg_signals):\n",
    "    eeg_signals_3d = np.zeros((eeg_signals.shape[0], channels, samples, 3))\n",
    "    for i in range(eeg_signals.shape[0]):\n",
    "        trial_3d = np.dstack([eeg_signals[0],eeg_signals[0],eeg_signals[0]])\n",
    "        eeg_signals_3d[i] = trial_3d\n",
    "    return eeg_signals_3d"
   ]
  },
  {
   "cell_type": "code",
   "execution_count": 42,
   "metadata": {},
   "outputs": [],
   "source": [
    "# X_train = preprocess_input(X_train)\n",
    "# X_val = preprocess_input(X_val)"
   ]
  },
  {
   "cell_type": "code",
   "execution_count": 15,
   "metadata": {},
   "outputs": [
    {
     "name": "stdout",
     "output_type": "stream",
     "text": [
      "X_train:  (2400, 32, 5000)\n",
      "X_val:    (600, 32, 5000)\n",
      "y_train:  (2400, 6)\n",
      "y_val:    (600, 6)\n"
     ]
    }
   ],
   "source": [
    "print('X_train: ',X_train.shape)\n",
    "print('X_val:   ',X_val.shape)\n",
    "print('y_train: ',y_train.shape)\n",
    "print('y_val:   ',y_val.shape)"
   ]
  },
  {
   "cell_type": "markdown",
   "metadata": {},
   "source": [
    "## Model CNN"
   ]
  },
  {
   "cell_type": "code",
   "execution_count": 16,
   "metadata": {},
   "outputs": [],
   "source": [
    "# ResNet50 = tf.keras.applications.ResNet50(\n",
    "#     include_top=False,\n",
    "#     weights=\"imagenet\",\n",
    "#     input_shape=(32, 2500, 3),\n",
    "# )"
   ]
  },
  {
   "cell_type": "code",
   "execution_count": 17,
   "metadata": {},
   "outputs": [],
   "source": [
    "# model = tf.keras.models.Sequential([\n",
    "#     ResNet50,\n",
    "#     # tf.keras.layers.Flatten(),\n",
    "#     tf.keras.layers.GlobalAveragePooling2D(),\n",
    "#     tf.keras.layers.Dense(1024, activation='relu'),\n",
    "#     # tf.keras.layers.Dropout(0.2),\n",
    "#     tf.keras.layers.Dense(7,activation='softmax')\n",
    "# ])"
   ]
  },
  {
   "cell_type": "code",
   "execution_count": 18,
   "metadata": {},
   "outputs": [],
   "source": [
    "# # Load the pretrained ResNet50 model\n",
    "# model = tf.keras.applications.resnet50.ResNet50(weights='imagenet', include_top=False, input_shape=(32, 2500, 3))\n",
    "\n",
    "# # Add a global average pooling layer and a dense output layer for classification\n",
    "# x = model.output\n",
    "# x = tf.keras.layers.GlobalAveragePooling2D()(x)\n",
    "# x = tf.keras.layers.Dense(1024, activation='relu')(x)\n",
    "# predictions = tf.keras.layers.Dense(6, activation='softmax')(x)\n",
    "\n",
    "# # Create the final model by combining the pretrained model and the new layers\n",
    "# final_model = tf.keras.models.Model(inputs=model.input, outputs=predictions)"
   ]
  },
  {
   "cell_type": "code",
   "execution_count": 16,
   "metadata": {},
   "outputs": [],
   "source": [
    "model = tf.keras.Sequential([\n",
    "    tf.keras.layers.Conv1D(64, kernel_size=3, activation='relu', input_shape=(32,5000)),\n",
    "    tf.keras.layers.MaxPooling1D(pool_size=2),\n",
    "    tf.keras.layers.Conv1D(128, kernel_size=3, activation='relu'),\n",
    "    tf.keras.layers.MaxPooling1D(pool_size=2),\n",
    "    tf.keras.layers.Conv1D(256, kernel_size=3, activation='relu'),\n",
    "    tf.keras.layers.MaxPooling1D(pool_size=2),\n",
    "    tf.keras.layers.Flatten(),\n",
    "    tf.keras.layers.Dense(512, activation='relu'),\n",
    "    tf.keras.layers.Dense(6, activation='softmax')\n",
    "])"
   ]
  },
  {
   "cell_type": "code",
   "execution_count": 17,
   "metadata": {},
   "outputs": [
    {
     "name": "stderr",
     "output_type": "stream",
     "text": [
      "WARNING:absl:`lr` is deprecated, please use `learning_rate` instead, or use the legacy optimizer, e.g.,tf.keras.optimizers.legacy.SGD.\n"
     ]
    }
   ],
   "source": [
    "model.compile(\n",
    "  optimizer=tf.keras.optimizers.SGD(lr=0.005, momentum=0.9), \n",
    "  loss=tf.keras.losses.CategoricalCrossentropy(from_logits=True, label_smoothing=0.1),\n",
    "  metrics=['accuracy'])"
   ]
  },
  {
   "cell_type": "code",
   "execution_count": 18,
   "metadata": {},
   "outputs": [
    {
     "name": "stdout",
     "output_type": "stream",
     "text": [
      "Model: \"sequential\"\n",
      "_________________________________________________________________\n",
      " Layer (type)                Output Shape              Param #   \n",
      "=================================================================\n",
      " conv1d (Conv1D)             (None, 30, 64)            960064    \n",
      "                                                                 \n",
      " max_pooling1d (MaxPooling1D  (None, 15, 64)           0         \n",
      " )                                                               \n",
      "                                                                 \n",
      " conv1d_1 (Conv1D)           (None, 13, 128)           24704     \n",
      "                                                                 \n",
      " max_pooling1d_1 (MaxPooling  (None, 6, 128)           0         \n",
      " 1D)                                                             \n",
      "                                                                 \n",
      " conv1d_2 (Conv1D)           (None, 4, 256)            98560     \n",
      "                                                                 \n",
      " max_pooling1d_2 (MaxPooling  (None, 2, 256)           0         \n",
      " 1D)                                                             \n",
      "                                                                 \n",
      " flatten (Flatten)           (None, 512)               0         \n",
      "                                                                 \n",
      " dense (Dense)               (None, 512)               262656    \n",
      "                                                                 \n",
      " dense_1 (Dense)             (None, 6)                 3078      \n",
      "                                                                 \n",
      "=================================================================\n",
      "Total params: 1,349,062\n",
      "Trainable params: 1,349,062\n",
      "Non-trainable params: 0\n",
      "_________________________________________________________________\n"
     ]
    }
   ],
   "source": [
    "model.summary()"
   ]
  },
  {
   "cell_type": "code",
   "execution_count": 19,
   "metadata": {},
   "outputs": [
    {
     "name": "stdout",
     "output_type": "stream",
     "text": [
      "Epoch 1/100\n",
      "75/75 [==============================] - 10s 86ms/step - loss: 1.7962 - accuracy: 0.1663 - val_loss: 1.7923 - val_accuracy: 0.1667\n",
      "Epoch 2/100\n",
      "75/75 [==============================] - 5s 61ms/step - loss: 1.7928 - accuracy: 0.1558 - val_loss: 1.7919 - val_accuracy: 0.1667\n",
      "Epoch 3/100\n",
      "75/75 [==============================] - 5s 62ms/step - loss: 1.7927 - accuracy: 0.1604 - val_loss: 1.7918 - val_accuracy: 0.1667\n",
      "Epoch 4/100\n",
      "75/75 [==============================] - 5s 61ms/step - loss: 1.7924 - accuracy: 0.1517 - val_loss: 1.7918 - val_accuracy: 0.1667\n",
      "Epoch 5/100\n",
      "75/75 [==============================] - 5s 61ms/step - loss: 1.7926 - accuracy: 0.1542 - val_loss: 1.7918 - val_accuracy: 0.1667\n",
      "Epoch 6/100\n",
      "75/75 [==============================] - 4s 60ms/step - loss: 1.7928 - accuracy: 0.1612 - val_loss: 1.7918 - val_accuracy: 0.1667\n",
      "Epoch 7/100\n",
      "75/75 [==============================] - 5s 61ms/step - loss: 1.7924 - accuracy: 0.1621 - val_loss: 1.7918 - val_accuracy: 0.1667\n",
      "Epoch 8/100\n",
      "75/75 [==============================] - 5s 63ms/step - loss: 1.7925 - accuracy: 0.1625 - val_loss: 1.7918 - val_accuracy: 0.1667\n",
      "Epoch 9/100\n",
      "75/75 [==============================] - 5s 62ms/step - loss: 1.7924 - accuracy: 0.1458 - val_loss: 1.7918 - val_accuracy: 0.1667\n",
      "Epoch 10/100\n",
      "75/75 [==============================] - 5s 61ms/step - loss: 1.7925 - accuracy: 0.1546 - val_loss: 1.7918 - val_accuracy: 0.1667\n",
      "Epoch 11/100\n",
      "75/75 [==============================] - 5s 63ms/step - loss: 1.7924 - accuracy: 0.1529 - val_loss: 1.7918 - val_accuracy: 0.1667\n",
      "Epoch 12/100\n",
      "75/75 [==============================] - 5s 61ms/step - loss: 1.7923 - accuracy: 0.1542 - val_loss: 1.7918 - val_accuracy: 0.1667\n",
      "Epoch 13/100\n",
      "75/75 [==============================] - 5s 63ms/step - loss: 1.7922 - accuracy: 0.1617 - val_loss: 1.7918 - val_accuracy: 0.1667\n",
      "Epoch 14/100\n",
      "75/75 [==============================] - 5s 61ms/step - loss: 1.7926 - accuracy: 0.1558 - val_loss: 1.7918 - val_accuracy: 0.1667\n",
      "Epoch 15/100\n",
      "75/75 [==============================] - 5s 61ms/step - loss: 1.7929 - accuracy: 0.1637 - val_loss: 1.7918 - val_accuracy: 0.1667\n",
      "Epoch 16/100\n",
      "75/75 [==============================] - 5s 63ms/step - loss: 1.7926 - accuracy: 0.1521 - val_loss: 1.7918 - val_accuracy: 0.1667\n",
      "Epoch 17/100\n",
      "75/75 [==============================] - 5s 62ms/step - loss: 1.7924 - accuracy: 0.1508 - val_loss: 1.7918 - val_accuracy: 0.1667\n",
      "Epoch 18/100\n",
      "75/75 [==============================] - 5s 61ms/step - loss: 1.7926 - accuracy: 0.1604 - val_loss: 1.7919 - val_accuracy: 0.1667\n",
      "Epoch 19/100\n",
      "75/75 [==============================] - 5s 61ms/step - loss: 1.7925 - accuracy: 0.1517 - val_loss: 1.7918 - val_accuracy: 0.1667\n",
      "Epoch 20/100\n",
      "75/75 [==============================] - 5s 61ms/step - loss: 1.7930 - accuracy: 0.1575 - val_loss: 1.7918 - val_accuracy: 0.1667\n",
      "Epoch 21/100\n",
      "75/75 [==============================] - 5s 61ms/step - loss: 1.7925 - accuracy: 0.1554 - val_loss: 1.7918 - val_accuracy: 0.1667\n",
      "Epoch 22/100\n",
      "75/75 [==============================] - 5s 64ms/step - loss: 1.7925 - accuracy: 0.1462 - val_loss: 1.7918 - val_accuracy: 0.1667\n",
      "Epoch 23/100\n",
      "75/75 [==============================] - 5s 62ms/step - loss: 1.7928 - accuracy: 0.1608 - val_loss: 1.7918 - val_accuracy: 0.1667\n",
      "Epoch 24/100\n",
      "75/75 [==============================] - 5s 62ms/step - loss: 1.7926 - accuracy: 0.1621 - val_loss: 1.7918 - val_accuracy: 0.1667\n",
      "Epoch 25/100\n",
      "75/75 [==============================] - 5s 61ms/step - loss: 1.7924 - accuracy: 0.1583 - val_loss: 1.7918 - val_accuracy: 0.1667\n",
      "Epoch 26/100\n",
      "75/75 [==============================] - 5s 61ms/step - loss: 1.7924 - accuracy: 0.1600 - val_loss: 1.7918 - val_accuracy: 0.1667\n",
      "Epoch 27/100\n",
      "75/75 [==============================] - 5s 61ms/step - loss: 1.7931 - accuracy: 0.1567 - val_loss: 1.7919 - val_accuracy: 0.1667\n",
      "Epoch 28/100\n",
      "75/75 [==============================] - 5s 63ms/step - loss: 1.7926 - accuracy: 0.1675 - val_loss: 1.7918 - val_accuracy: 0.1667\n",
      "Epoch 29/100\n",
      "75/75 [==============================] - 5s 62ms/step - loss: 1.7927 - accuracy: 0.1508 - val_loss: 1.7918 - val_accuracy: 0.1667\n",
      "Epoch 30/100\n",
      "75/75 [==============================] - 5s 61ms/step - loss: 1.7924 - accuracy: 0.1513 - val_loss: 1.7918 - val_accuracy: 0.1667\n",
      "Epoch 31/100\n",
      "75/75 [==============================] - 5s 63ms/step - loss: 1.7925 - accuracy: 0.1521 - val_loss: 1.7918 - val_accuracy: 0.1667\n",
      "Epoch 32/100\n",
      "75/75 [==============================] - 5s 61ms/step - loss: 1.7925 - accuracy: 0.1567 - val_loss: 1.7918 - val_accuracy: 0.1667\n",
      "Epoch 33/100\n",
      "75/75 [==============================] - 5s 63ms/step - loss: 1.7924 - accuracy: 0.1637 - val_loss: 1.7918 - val_accuracy: 0.1667\n",
      "Epoch 34/100\n",
      "75/75 [==============================] - 5s 63ms/step - loss: 1.7926 - accuracy: 0.1542 - val_loss: 1.7918 - val_accuracy: 0.1667\n",
      "Epoch 35/100\n",
      "75/75 [==============================] - 5s 64ms/step - loss: 1.7926 - accuracy: 0.1592 - val_loss: 1.7918 - val_accuracy: 0.1667\n",
      "Epoch 36/100\n",
      "75/75 [==============================] - 5s 63ms/step - loss: 1.7925 - accuracy: 0.1579 - val_loss: 1.7918 - val_accuracy: 0.1667\n",
      "Epoch 37/100\n",
      "75/75 [==============================] - 5s 64ms/step - loss: 1.7924 - accuracy: 0.1558 - val_loss: 1.7918 - val_accuracy: 0.1667\n",
      "Epoch 38/100\n",
      "75/75 [==============================] - 5s 61ms/step - loss: 1.7923 - accuracy: 0.1562 - val_loss: 1.7918 - val_accuracy: 0.1667\n",
      "Epoch 39/100\n",
      "75/75 [==============================] - 5s 62ms/step - loss: 1.7925 - accuracy: 0.1625 - val_loss: 1.7918 - val_accuracy: 0.1667\n",
      "Epoch 40/100\n",
      "75/75 [==============================] - 5s 62ms/step - loss: 1.7931 - accuracy: 0.1533 - val_loss: 1.7918 - val_accuracy: 0.1667\n",
      "Epoch 41/100\n",
      "75/75 [==============================] - 5s 63ms/step - loss: 1.7925 - accuracy: 0.1450 - val_loss: 1.7918 - val_accuracy: 0.1667\n",
      "Epoch 42/100\n",
      "75/75 [==============================] - 5s 62ms/step - loss: 1.7927 - accuracy: 0.1617 - val_loss: 1.7918 - val_accuracy: 0.1667\n",
      "Epoch 43/100\n",
      "75/75 [==============================] - 5s 63ms/step - loss: 1.7923 - accuracy: 0.1467 - val_loss: 1.7918 - val_accuracy: 0.1667\n",
      "Epoch 44/100\n",
      "75/75 [==============================] - 5s 63ms/step - loss: 1.7925 - accuracy: 0.1483 - val_loss: 1.7918 - val_accuracy: 0.1667\n",
      "Epoch 45/100\n",
      "75/75 [==============================] - 5s 63ms/step - loss: 1.7929 - accuracy: 0.1617 - val_loss: 1.7919 - val_accuracy: 0.1667\n",
      "Epoch 46/100\n",
      "75/75 [==============================] - 5s 62ms/step - loss: 1.7924 - accuracy: 0.1562 - val_loss: 1.7918 - val_accuracy: 0.1667\n",
      "Epoch 47/100\n",
      "75/75 [==============================] - 5s 62ms/step - loss: 1.7924 - accuracy: 0.1479 - val_loss: 1.7918 - val_accuracy: 0.1667\n",
      "Epoch 48/100\n",
      "75/75 [==============================] - 5s 62ms/step - loss: 1.7923 - accuracy: 0.1538 - val_loss: 1.7918 - val_accuracy: 0.1667\n",
      "Epoch 49/100\n",
      "75/75 [==============================] - 5s 62ms/step - loss: 1.7926 - accuracy: 0.1479 - val_loss: 1.7918 - val_accuracy: 0.1667\n",
      "Epoch 50/100\n",
      "75/75 [==============================] - 5s 61ms/step - loss: 1.7923 - accuracy: 0.1646 - val_loss: 1.7918 - val_accuracy: 0.1667\n",
      "Epoch 51/100\n",
      "75/75 [==============================] - 5s 62ms/step - loss: 1.7924 - accuracy: 0.1575 - val_loss: 1.7918 - val_accuracy: 0.1667\n",
      "Epoch 52/100\n",
      "75/75 [==============================] - 5s 61ms/step - loss: 1.7926 - accuracy: 0.1592 - val_loss: 1.7919 - val_accuracy: 0.1667\n",
      "Epoch 53/100\n",
      "75/75 [==============================] - 5s 62ms/step - loss: 1.7925 - accuracy: 0.1475 - val_loss: 1.7918 - val_accuracy: 0.1667\n",
      "Epoch 54/100\n",
      "75/75 [==============================] - 5s 61ms/step - loss: 1.7923 - accuracy: 0.1571 - val_loss: 1.7918 - val_accuracy: 0.1667\n",
      "Epoch 55/100\n",
      "75/75 [==============================] - 5s 63ms/step - loss: 1.7923 - accuracy: 0.1600 - val_loss: 1.7918 - val_accuracy: 0.1667\n",
      "Epoch 56/100\n",
      "75/75 [==============================] - 5s 61ms/step - loss: 1.7923 - accuracy: 0.1608 - val_loss: 1.7918 - val_accuracy: 0.1667\n",
      "Epoch 57/100\n",
      "75/75 [==============================] - 5s 61ms/step - loss: 1.7926 - accuracy: 0.1617 - val_loss: 1.7918 - val_accuracy: 0.1667\n",
      "Epoch 58/100\n",
      "75/75 [==============================] - 5s 60ms/step - loss: 1.7923 - accuracy: 0.1617 - val_loss: 1.7918 - val_accuracy: 0.1667\n",
      "Epoch 59/100\n",
      "75/75 [==============================] - 5s 61ms/step - loss: 1.7926 - accuracy: 0.1646 - val_loss: 1.7918 - val_accuracy: 0.1667\n",
      "Epoch 60/100\n",
      "75/75 [==============================] - 5s 62ms/step - loss: 1.7929 - accuracy: 0.1542 - val_loss: 1.7918 - val_accuracy: 0.1667\n",
      "Epoch 61/100\n",
      "75/75 [==============================] - 5s 61ms/step - loss: 1.7926 - accuracy: 0.1629 - val_loss: 1.7918 - val_accuracy: 0.1667\n",
      "Epoch 62/100\n",
      "75/75 [==============================] - 5s 62ms/step - loss: 1.7924 - accuracy: 0.1617 - val_loss: 1.7918 - val_accuracy: 0.1667\n",
      "Epoch 63/100\n",
      "75/75 [==============================] - 5s 61ms/step - loss: 1.7927 - accuracy: 0.1604 - val_loss: 1.7918 - val_accuracy: 0.1667\n",
      "Epoch 64/100\n",
      "75/75 [==============================] - 5s 61ms/step - loss: 1.7924 - accuracy: 0.1604 - val_loss: 1.7918 - val_accuracy: 0.1667\n",
      "Epoch 65/100\n",
      "75/75 [==============================] - 5s 61ms/step - loss: 1.7924 - accuracy: 0.1517 - val_loss: 1.7918 - val_accuracy: 0.1667\n",
      "Epoch 66/100\n",
      "75/75 [==============================] - 5s 62ms/step - loss: 1.7924 - accuracy: 0.1542 - val_loss: 1.7918 - val_accuracy: 0.1667\n",
      "Epoch 67/100\n",
      "75/75 [==============================] - 5s 61ms/step - loss: 1.7925 - accuracy: 0.1475 - val_loss: 1.7918 - val_accuracy: 0.1667\n",
      "Epoch 68/100\n",
      "75/75 [==============================] - 5s 61ms/step - loss: 1.7924 - accuracy: 0.1558 - val_loss: 1.7918 - val_accuracy: 0.1667\n",
      "Epoch 69/100\n",
      "75/75 [==============================] - 5s 61ms/step - loss: 1.7925 - accuracy: 0.1583 - val_loss: 1.7918 - val_accuracy: 0.1667\n",
      "Epoch 70/100\n",
      "75/75 [==============================] - 5s 61ms/step - loss: 1.7925 - accuracy: 0.1542 - val_loss: 1.7918 - val_accuracy: 0.1667\n",
      "Epoch 71/100\n",
      "75/75 [==============================] - 5s 63ms/step - loss: 1.7925 - accuracy: 0.1525 - val_loss: 1.7918 - val_accuracy: 0.1667\n",
      "Epoch 72/100\n",
      "75/75 [==============================] - 5s 61ms/step - loss: 1.7925 - accuracy: 0.1592 - val_loss: 1.7918 - val_accuracy: 0.1667\n",
      "Epoch 73/100\n",
      "75/75 [==============================] - 5s 62ms/step - loss: 1.7928 - accuracy: 0.1571 - val_loss: 1.7918 - val_accuracy: 0.1667\n",
      "Epoch 74/100\n",
      "75/75 [==============================] - 5s 62ms/step - loss: 1.7925 - accuracy: 0.1621 - val_loss: 1.7918 - val_accuracy: 0.1667\n",
      "Epoch 75/100\n",
      "75/75 [==============================] - 5s 62ms/step - loss: 1.7923 - accuracy: 0.1592 - val_loss: 1.7918 - val_accuracy: 0.1667\n",
      "Epoch 76/100\n",
      "75/75 [==============================] - 5s 62ms/step - loss: 1.7925 - accuracy: 0.1538 - val_loss: 1.7918 - val_accuracy: 0.1667\n",
      "Epoch 77/100\n",
      "75/75 [==============================] - 5s 64ms/step - loss: 1.7926 - accuracy: 0.1533 - val_loss: 1.7918 - val_accuracy: 0.1667\n",
      "Epoch 78/100\n",
      "75/75 [==============================] - 5s 62ms/step - loss: 1.7927 - accuracy: 0.1558 - val_loss: 1.7918 - val_accuracy: 0.1667\n",
      "Epoch 79/100\n",
      "75/75 [==============================] - 5s 62ms/step - loss: 1.7924 - accuracy: 0.1688 - val_loss: 1.7918 - val_accuracy: 0.1667\n",
      "Epoch 80/100\n",
      "75/75 [==============================] - 5s 63ms/step - loss: 1.7925 - accuracy: 0.1558 - val_loss: 1.7918 - val_accuracy: 0.1667\n",
      "Epoch 81/100\n",
      "75/75 [==============================] - 5s 61ms/step - loss: 1.7925 - accuracy: 0.1650 - val_loss: 1.7918 - val_accuracy: 0.1667\n",
      "Epoch 82/100\n",
      "75/75 [==============================] - 5s 63ms/step - loss: 1.7924 - accuracy: 0.1558 - val_loss: 1.7918 - val_accuracy: 0.1667\n",
      "Epoch 83/100\n",
      "75/75 [==============================] - 5s 64ms/step - loss: 1.7926 - accuracy: 0.1571 - val_loss: 1.7918 - val_accuracy: 0.1667\n",
      "Epoch 84/100\n",
      "75/75 [==============================] - 5s 62ms/step - loss: 1.7925 - accuracy: 0.1596 - val_loss: 1.7918 - val_accuracy: 0.1667\n",
      "Epoch 85/100\n",
      "75/75 [==============================] - 5s 62ms/step - loss: 1.7925 - accuracy: 0.1629 - val_loss: 1.7918 - val_accuracy: 0.1667\n",
      "Epoch 86/100\n",
      "75/75 [==============================] - 5s 62ms/step - loss: 1.7927 - accuracy: 0.1612 - val_loss: 1.7918 - val_accuracy: 0.1667\n",
      "Epoch 87/100\n",
      "75/75 [==============================] - 5s 61ms/step - loss: 1.7924 - accuracy: 0.1583 - val_loss: 1.7918 - val_accuracy: 0.1667\n",
      "Epoch 88/100\n",
      "75/75 [==============================] - 5s 62ms/step - loss: 1.7925 - accuracy: 0.1579 - val_loss: 1.7918 - val_accuracy: 0.1667\n",
      "Epoch 89/100\n",
      "75/75 [==============================] - 5s 63ms/step - loss: 1.7925 - accuracy: 0.1400 - val_loss: 1.7918 - val_accuracy: 0.1667\n",
      "Epoch 90/100\n",
      "75/75 [==============================] - 5s 62ms/step - loss: 1.7925 - accuracy: 0.1554 - val_loss: 1.7918 - val_accuracy: 0.1667\n",
      "Epoch 91/100\n",
      "75/75 [==============================] - 4s 54ms/step - loss: 1.7924 - accuracy: 0.1596 - val_loss: 1.7918 - val_accuracy: 0.1667\n",
      "Epoch 92/100\n",
      "75/75 [==============================] - 3s 46ms/step - loss: 1.7925 - accuracy: 0.1542 - val_loss: 1.7918 - val_accuracy: 0.1667\n",
      "Epoch 93/100\n",
      "75/75 [==============================] - 3s 44ms/step - loss: 1.7926 - accuracy: 0.1529 - val_loss: 1.7918 - val_accuracy: 0.1667\n",
      "Epoch 94/100\n",
      "75/75 [==============================] - 3s 43ms/step - loss: 1.7927 - accuracy: 0.1567 - val_loss: 1.7918 - val_accuracy: 0.1667\n",
      "Epoch 95/100\n",
      "75/75 [==============================] - 3s 43ms/step - loss: 1.7926 - accuracy: 0.1554 - val_loss: 1.7918 - val_accuracy: 0.1667\n",
      "Epoch 96/100\n",
      "75/75 [==============================] - 3s 43ms/step - loss: 1.7926 - accuracy: 0.1550 - val_loss: 1.7918 - val_accuracy: 0.1667\n",
      "Epoch 97/100\n",
      "75/75 [==============================] - 3s 43ms/step - loss: 1.7929 - accuracy: 0.1458 - val_loss: 1.7918 - val_accuracy: 0.1667\n",
      "Epoch 98/100\n",
      "75/75 [==============================] - 3s 43ms/step - loss: 1.7924 - accuracy: 0.1633 - val_loss: 1.7918 - val_accuracy: 0.1667\n",
      "Epoch 99/100\n",
      "75/75 [==============================] - 3s 43ms/step - loss: 1.7925 - accuracy: 0.1571 - val_loss: 1.7918 - val_accuracy: 0.1667\n",
      "Epoch 100/100\n",
      "75/75 [==============================] - 3s 43ms/step - loss: 1.7925 - accuracy: 0.1533 - val_loss: 1.7918 - val_accuracy: 0.1667\n"
     ]
    }
   ],
   "source": [
    "Epochs=100\n",
    "early_stopping = tf.keras.callbacks.EarlyStopping(monitor='val_loss', patience=5,restore_best_weights=True)\n",
    "history = model.fit(X_train,y_train,\n",
    "                    epochs=Epochs,\n",
    "                    validation_data=(X_val,y_val),\n",
    "                    batch_size=32,\n",
    "                    verbose=1)#,callbacks=[early_stopping]"
   ]
  },
  {
   "cell_type": "code",
   "execution_count": 20,
   "metadata": {},
   "outputs": [
    {
     "data": {
      "text/plain": [
       "dict_keys(['loss', 'accuracy', 'val_loss', 'val_accuracy'])"
      ]
     },
     "execution_count": 20,
     "metadata": {},
     "output_type": "execute_result"
    }
   ],
   "source": [
    "history.history.keys()"
   ]
  },
  {
   "cell_type": "code",
   "execution_count": 21,
   "metadata": {},
   "outputs": [
    {
     "data": {
      "image/png": "[encoded data removed]",
      "text/plain": [
       "<Figure size 800x800 with 2 Axes>"
      ]
     },
     "metadata": {},
     "output_type": "display_data"
    }
   ],
   "source": [
    "training_accuracy = history.history['accuracy']\n",
    "validation_accuracy = history.history['val_accuracy']\n",
    "\n",
    "training_loss = history.history['loss']\n",
    "validation_loss = history.history['val_loss']\n",
    "\n",
    "epochs_range=range(Epochs)\n",
    "\n",
    "plt.figure(figsize=(8, 8))\n",
    "plt.subplot(1, 2, 1)\n",
    "plt.plot(epochs_range, training_accuracy, label='Training Accuracy')\n",
    "plt.plot(epochs_range, validation_accuracy, label='Validation Accuracy')\n",
    "plt.legend(loc='lower right')\n",
    "plt.title('Training and Validation Accuracy')\n",
    "\n",
    "plt.subplot(1, 2, 2)\n",
    "plt.plot(epochs_range, training_loss, label='Training Loss')\n",
    "plt.plot(epochs_range, validation_loss, label='Validation Loss')\n",
    "plt.legend(loc='upper right')\n",
    "plt.title('Training and Validation Loss')\n",
    "plt.show()"
   ]
  },
  {
   "cell_type": "code",
   "execution_count": 22,
   "metadata": {},
   "outputs": [
    {
     "name": "stdout",
     "output_type": "stream",
     "text": [
      "75/75 [==============================] - 1s 15ms/step - loss: 1.7918 - accuracy: 0.1667\n"
     ]
    },
    {
     "data": {
      "text/plain": [
       "[1.791771650314331, 0.1666666716337204]"
      ]
     },
     "execution_count": 22,
     "metadata": {},
     "output_type": "execute_result"
    }
   ],
   "source": [
    "model.evaluate(X_train,y_train)"
   ]
  },
  {
   "cell_type": "code",
   "execution_count": 23,
   "metadata": {},
   "outputs": [
    {
     "name": "stdout",
     "output_type": "stream",
     "text": [
      "19/19 [==============================] - 0s 14ms/step - loss: 1.7918 - accuracy: 0.1667\n"
     ]
    },
    {
     "data": {
      "text/plain": [
       "[1.791771650314331, 0.1666666716337204]"
      ]
     },
     "execution_count": 23,
     "metadata": {},
     "output_type": "execute_result"
    }
   ],
   "source": [
    "model.evaluate(X_val,y_val)"
   ]
  },
  {
   "cell_type": "code",
   "execution_count": null,
   "metadata": {},
   "outputs": [],
   "source": []
  }
 ],
 "metadata": {
  "colab": {
   "provenance": []
  },
  "gpuClass": "standard",
  "kernelspec": {
   "display_name": "base",
   "language": "python",
   "name": "python3"
  },
  "language_info": {
   "codemirror_mode": {
    "name": "ipython",
    "version": 3
   },
   "file_extension": ".py",
   "mimetype": "text/x-python",
   "name": "python",
   "nbconvert_exporter": "python",
   "pygments_lexer": "ipython3",
   "version": "3.9.13"
  },
  "vscode": {
   "interpreter": {
    "hash": "a47d0e2911489018702d96dff3d34035493b3b1d45865abb5b89591fac2af3b0"
   }
  }
 },
 "nbformat": 4,
 "nbformat_minor": 1
}
