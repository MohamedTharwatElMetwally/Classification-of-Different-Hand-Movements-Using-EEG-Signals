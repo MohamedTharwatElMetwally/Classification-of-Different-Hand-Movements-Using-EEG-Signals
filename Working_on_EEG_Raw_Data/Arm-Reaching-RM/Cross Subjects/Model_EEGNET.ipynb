{
 "cells": [
  {
   "cell_type": "markdown",
   "metadata": {},
   "source": [
    "## Arm Reaching (RM Session 1)"
   ]
  },
  {
   "cell_type": "code",
   "execution_count": 1,
   "metadata": {
    "colab": {
     "base_uri": "https://localhost:8080/"
    },
    "id": "aITeIwSXXffW",
    "outputId": "a881459e-729d-4691-d14b-3f934411cbbb"
   },
   "outputs": [],
   "source": [
    "import os\n",
    "import glob\n",
    "import numpy as np\n",
    "import mne\n",
    "import pandas as pd\n",
    "import tensorflow as tf\n",
    "import matplotlib.pyplot as plt\n",
    "import warnings\n",
    "from pathlib import Path\n",
    "from sklearn.preprocessing import MinMaxScaler\n",
    "from sklearn.model_selection import train_test_split\n",
    "# from google.colab import drive\n",
    "# drive.mount('/content/drive')\n",
    "from scipy.io import loadmat\n",
    "from scipy.signal import butter, lfilter\n",
    "warnings.filterwarnings('ignore')"
   ]
  },
  {
   "cell_type": "code",
   "execution_count": 2,
   "metadata": {},
   "outputs": [
    {
     "data": {
      "text/plain": [
       "[PhysicalDevice(name='/physical_device:CPU:0', device_type='CPU')]"
      ]
     },
     "execution_count": 2,
     "metadata": {},
     "output_type": "execute_result"
    }
   ],
   "source": [
    "tf.config.list_physical_devices()"
   ]
  },
  {
   "cell_type": "code",
   "execution_count": 3,
   "metadata": {},
   "outputs": [
    {
     "data": {
      "text/plain": [
       "['Session_1_RM_Sub_10_arm_reaching_classes.fif',\n",
       " 'Session_1_RM_Sub_10_rest_class.fif',\n",
       " 'Session_1_RM_Sub_1_arm_reaching_classes.fif',\n",
       " 'Session_1_RM_Sub_1_rest_class.fif',\n",
       " 'Session_1_RM_Sub_2_arm_reaching_classes.fif',\n",
       " 'Session_1_RM_Sub_2_rest_class.fif',\n",
       " 'Session_1_RM_Sub_3_arm_reaching_classes.fif',\n",
       " 'Session_1_RM_Sub_3_rest_class.fif',\n",
       " 'Session_1_RM_Sub_4_arm_reaching_classes.fif',\n",
       " 'Session_1_RM_Sub_4_rest_class.fif',\n",
       " 'Session_1_RM_Sub_5_arm_reaching_classes.fif',\n",
       " 'Session_1_RM_Sub_5_rest_class.fif',\n",
       " 'Session_1_RM_Sub_6_arm_reaching_classes.fif',\n",
       " 'Session_1_RM_Sub_6_rest_class.fif',\n",
       " 'Session_1_RM_Sub_7_arm_reaching_classes.fif',\n",
       " 'Session_1_RM_Sub_7_rest_class.fif',\n",
       " 'Session_1_RM_Sub_8_arm_reaching_classes.fif',\n",
       " 'Session_1_RM_Sub_8_rest_class.fif',\n",
       " 'Session_1_RM_Sub_9_arm_reaching_classes.fif',\n",
       " 'Session_1_RM_Sub_9_rest_class.fif']"
      ]
     },
     "execution_count": 3,
     "metadata": {},
     "output_type": "execute_result"
    }
   ],
   "source": [
    "folder = r'converted data'\n",
    "files = os.listdir(folder)\n",
    "files"
   ]
  },
  {
   "cell_type": "code",
   "execution_count": 5,
   "metadata": {},
   "outputs": [
    {
     "name": "stdout",
     "output_type": "stream",
     "text": [
      "Reading d:\\EEG_RawData\\Arm-Reaching-RM\\Multiple subjects\\converted data\\Session_1_RM_Sub_10_arm_reaching_classes.fif ...\n",
      "    Found the data of interest:\n",
      "        t =    3000.00 ...    7000.00 ms\n",
      "        0 CTF compensation matrices available\n",
      "Not setting metadata\n",
      "300 matching events found\n",
      "No baseline correction applied\n",
      "0 projection items activated\n",
      "Reading d:\\EEG_RawData\\Arm-Reaching-RM\\Multiple subjects\\converted data\\Session_1_RM_Sub_1_arm_reaching_classes.fif ...\n",
      "    Found the data of interest:\n",
      "        t =    3000.00 ...    7000.00 ms\n",
      "        0 CTF compensation matrices available\n",
      "Not setting metadata\n",
      "300 matching events found\n",
      "No baseline correction applied\n",
      "0 projection items activated\n",
      "Reading d:\\EEG_RawData\\Arm-Reaching-RM\\Multiple subjects\\converted data\\Session_1_RM_Sub_2_arm_reaching_classes.fif ...\n",
      "    Found the data of interest:\n",
      "        t =    3000.00 ...    7000.00 ms\n",
      "        0 CTF compensation matrices available\n",
      "Not setting metadata\n",
      "300 matching events found\n",
      "No baseline correction applied\n",
      "0 projection items activated\n",
      "Reading d:\\EEG_RawData\\Arm-Reaching-RM\\Multiple subjects\\converted data\\Session_1_RM_Sub_3_arm_reaching_classes.fif ...\n",
      "    Found the data of interest:\n",
      "        t =    3000.00 ...    7000.00 ms\n",
      "        0 CTF compensation matrices available\n",
      "Not setting metadata\n",
      "300 matching events found\n",
      "No baseline correction applied\n",
      "0 projection items activated\n",
      "Reading d:\\EEG_RawData\\Arm-Reaching-RM\\Multiple subjects\\converted data\\Session_1_RM_Sub_4_arm_reaching_classes.fif ...\n",
      "    Found the data of interest:\n",
      "        t =    3000.00 ...    7000.00 ms\n",
      "        0 CTF compensation matrices available\n",
      "Not setting metadata\n",
      "300 matching events found\n",
      "No baseline correction applied\n",
      "0 projection items activated\n",
      "Reading d:\\EEG_RawData\\Arm-Reaching-RM\\Multiple subjects\\converted data\\Session_1_RM_Sub_5_arm_reaching_classes.fif ...\n",
      "    Found the data of interest:\n",
      "        t =    3000.00 ...    7000.00 ms\n",
      "        0 CTF compensation matrices available\n",
      "Not setting metadata\n",
      "300 matching events found\n",
      "No baseline correction applied\n",
      "0 projection items activated\n",
      "Reading d:\\EEG_RawData\\Arm-Reaching-RM\\Multiple subjects\\converted data\\Session_1_RM_Sub_6_arm_reaching_classes.fif ...\n",
      "    Found the data of interest:\n",
      "        t =    3000.00 ...    7000.00 ms\n",
      "        0 CTF compensation matrices available\n",
      "Not setting metadata\n",
      "300 matching events found\n",
      "No baseline correction applied\n",
      "0 projection items activated\n",
      "Reading d:\\EEG_RawData\\Arm-Reaching-RM\\Multiple subjects\\converted data\\Session_1_RM_Sub_7_arm_reaching_classes.fif ...\n",
      "    Found the data of interest:\n",
      "        t =    3000.00 ...    7000.00 ms\n",
      "        0 CTF compensation matrices available\n",
      "Not setting metadata\n",
      "300 matching events found\n",
      "No baseline correction applied\n",
      "0 projection items activated\n",
      "Reading d:\\EEG_RawData\\Arm-Reaching-RM\\Multiple subjects\\converted data\\Session_1_RM_Sub_8_arm_reaching_classes.fif ...\n",
      "    Found the data of interest:\n",
      "        t =    3000.00 ...    7000.00 ms\n",
      "        0 CTF compensation matrices available\n",
      "Not setting metadata\n",
      "300 matching events found\n",
      "No baseline correction applied\n",
      "0 projection items activated\n",
      "Reading d:\\EEG_RawData\\Arm-Reaching-RM\\Multiple subjects\\converted data\\Session_1_RM_Sub_9_arm_reaching_classes.fif ...\n",
      "    Found the data of interest:\n",
      "        t =    3000.00 ...    7000.00 ms\n",
      "        0 CTF compensation matrices available\n",
      "Not setting metadata\n",
      "300 matching events found\n",
      "No baseline correction applied\n",
      "0 projection items activated\n"
     ]
    }
   ],
   "source": [
    "decode = {11: 0, 21: 1, 31: 2, 41:3, 51: 4, 61: 5, 8 :6}\n",
    "labels = []\n",
    "\n",
    "data = []\n",
    "for file in files:\n",
    "    if file.__contains__('rest_class'):\n",
    "        continue\n",
    "\n",
    "    epochs = mne.read_epochs(os.path.join(folder,file))\n",
    "    epochs.pick_types(eeg=True)\n",
    "\n",
    "    # apply down sampling if needed\n",
    "    epochs.resample(sfreq=625)\n",
    "\n",
    "    tmp_data = epochs.get_data()\n",
    "\n",
    "    if data==[]:\n",
    "        data = tmp_data\n",
    "    else:\n",
    "        data = np.concatenate((data, tmp_data), axis=0)\n",
    "\n",
    "    for i in epochs.events:\n",
    "        labels.append(decode[i[2]])\n"
   ]
  },
  {
   "cell_type": "code",
   "execution_count": 6,
   "metadata": {},
   "outputs": [
    {
     "data": {
      "text/plain": [
       "(3000, 32, 2500)"
      ]
     },
     "execution_count": 6,
     "metadata": {},
     "output_type": "execute_result"
    }
   ],
   "source": [
    "data.shape"
   ]
  },
  {
   "cell_type": "code",
   "execution_count": 7,
   "metadata": {},
   "outputs": [
    {
     "data": {
      "text/plain": [
       "(3000,)"
      ]
     },
     "execution_count": 7,
     "metadata": {},
     "output_type": "execute_result"
    }
   ],
   "source": [
    "labels = np.array(labels)\n",
    "labels.shape"
   ]
  },
  {
   "cell_type": "code",
   "execution_count": 8,
   "metadata": {},
   "outputs": [],
   "source": [
    "X_train, X_val, y_train, y_val = train_test_split(data, labels, test_size = 0.2,stratify=labels,shuffle=True)"
   ]
  },
  {
   "cell_type": "code",
   "execution_count": 7,
   "metadata": {},
   "outputs": [],
   "source": [
    "# ind = np.argsort(y_train)\n",
    "# y_train = y_train[ind]\n",
    "# X_train = X_train[ind]"
   ]
  },
  {
   "cell_type": "code",
   "execution_count": 8,
   "metadata": {},
   "outputs": [],
   "source": [
    "# ind = np.argsort(y_val)\n",
    "# y_val = y_val[ind]\n",
    "# X_val = X_val[ind]"
   ]
  },
  {
   "cell_type": "code",
   "execution_count": 9,
   "metadata": {},
   "outputs": [],
   "source": [
    "y_train=tf.keras.utils.to_categorical(y_train,num_classes=6) \n",
    "y_val=tf.keras.utils.to_categorical(y_val,num_classes=6) "
   ]
  },
  {
   "cell_type": "code",
   "execution_count": 10,
   "metadata": {},
   "outputs": [
    {
     "name": "stdout",
     "output_type": "stream",
     "text": [
      "X_train:  (2400, 32, 2500)\n",
      "X_val:    (600, 32, 2500)\n",
      "y_train:  (2400, 6)\n",
      "y_val:    (600, 6)\n"
     ]
    }
   ],
   "source": [
    "print('X_train: ',X_train.shape)\n",
    "print('X_val:   ',X_val.shape)\n",
    "print('y_train: ',y_train.shape)\n",
    "print('y_val:   ',y_val.shape)"
   ]
  },
  {
   "cell_type": "code",
   "execution_count": 11,
   "metadata": {},
   "outputs": [],
   "source": [
    "# Normaliation\n",
    "# X_train = MinMaxScaler().fit_transform(X_train)\n",
    "# X_val = MinMaxScaler().fit_transform(X_val)\n",
    "X_train = (X_train-np.min(X_train))/(np.max(X_train)-np.min(X_train))\n",
    "X_val = (X_val-np.min(X_val))/(np.max(X_val)-np.min(X_val))"
   ]
  },
  {
   "cell_type": "markdown",
   "metadata": {},
   "source": [
    "## Model CNN"
   ]
  },
  {
   "cell_type": "code",
   "execution_count": 12,
   "metadata": {},
   "outputs": [],
   "source": [
    "from EEGModels import EEGNet \n",
    "model = EEGNet(nb_classes=6, Chans = 32, Samples = 2500, dropoutRate = 0.2, kernLength = 64, F1 = 8, D = 2, F2 = 16, norm_rate = 0.25, dropoutType = 'Dropout')"
   ]
  },
  {
   "cell_type": "code",
   "execution_count": 13,
   "metadata": {},
   "outputs": [
    {
     "name": "stderr",
     "output_type": "stream",
     "text": [
      "WARNING:absl:`lr` is deprecated, please use `learning_rate` instead, or use the legacy optimizer, e.g.,tf.keras.optimizers.legacy.SGD.\n"
     ]
    }
   ],
   "source": [
    "model.compile(\n",
    "  optimizer=tf.keras.optimizers.SGD(lr=0.005, momentum=0.9), \n",
    "  loss=tf.keras.losses.BinaryFocalCrossentropy(from_logits=True, label_smoothing=0.1),\n",
    "  metrics=['accuracy'])"
   ]
  },
  {
   "cell_type": "code",
   "execution_count": 14,
   "metadata": {},
   "outputs": [
    {
     "name": "stdout",
     "output_type": "stream",
     "text": [
      "Model: \"model\"\n",
      "_________________________________________________________________\n",
      " Layer (type)                Output Shape              Param #   \n",
      "=================================================================\n",
      " input_1 (InputLayer)        [(None, 32, 2500, 1)]     0         \n",
      "                                                                 \n",
      " conv2d (Conv2D)             (None, 32, 2500, 8)       512       \n",
      "                                                                 \n",
      " batch_normalization (BatchN  (None, 32, 2500, 8)      32        \n",
      " ormalization)                                                   \n",
      "                                                                 \n",
      " depthwise_conv2d (Depthwise  (None, 1, 2500, 16)      512       \n",
      " Conv2D)                                                         \n",
      "                                                                 \n",
      " batch_normalization_1 (Batc  (None, 1, 2500, 16)      64        \n",
      " hNormalization)                                                 \n",
      "                                                                 \n",
      " activation (Activation)     (None, 1, 2500, 16)       0         \n",
      "                                                                 \n",
      " average_pooling2d (AverageP  (None, 1, 625, 16)       0         \n",
      " ooling2D)                                                       \n",
      "                                                                 \n",
      " dropout (Dropout)           (None, 1, 625, 16)        0         \n",
      "                                                                 \n",
      " separable_conv2d (Separable  (None, 1, 625, 16)       512       \n",
      " Conv2D)                                                         \n",
      "                                                                 \n",
      " batch_normalization_2 (Batc  (None, 1, 625, 16)       64        \n",
      " hNormalization)                                                 \n",
      "                                                                 \n",
      " activation_1 (Activation)   (None, 1, 625, 16)        0         \n",
      "                                                                 \n",
      " average_pooling2d_1 (Averag  (None, 1, 78, 16)        0         \n",
      " ePooling2D)                                                     \n",
      "                                                                 \n",
      " dropout_1 (Dropout)         (None, 1, 78, 16)         0         \n",
      "                                                                 \n",
      " flatten (Flatten)           (None, 1248)              0         \n",
      "                                                                 \n",
      " dense (Dense)               (None, 6)                 7494      \n",
      "                                                                 \n",
      " softmax (Activation)        (None, 6)                 0         \n",
      "                                                                 \n",
      "=================================================================\n",
      "Total params: 9,190\n",
      "Trainable params: 9,110\n",
      "Non-trainable params: 80\n",
      "_________________________________________________________________\n"
     ]
    }
   ],
   "source": [
    "model.summary()"
   ]
  },
  {
   "cell_type": "code",
   "execution_count": 20,
   "metadata": {},
   "outputs": [
    {
     "name": "stdout",
     "output_type": "stream",
     "text": [
      "Epoch 1/10\n",
      "75/75 [==============================] - 72s 963ms/step - loss: 0.1237 - accuracy: 0.2225 - val_loss: 0.1273 - val_accuracy: 0.1650\n",
      "Epoch 2/10\n",
      "75/75 [==============================] - 74s 990ms/step - loss: 0.1235 - accuracy: 0.2346 - val_loss: 0.1285 - val_accuracy: 0.1550\n",
      "Epoch 3/10\n",
      "75/75 [==============================] - 73s 977ms/step - loss: 0.1234 - accuracy: 0.2442 - val_loss: 0.1263 - val_accuracy: 0.1700\n",
      "Epoch 4/10\n",
      "75/75 [==============================] - 72s 954ms/step - loss: 0.1232 - accuracy: 0.2525 - val_loss: 0.1273 - val_accuracy: 0.1600\n",
      "Epoch 5/10\n",
      "75/75 [==============================] - 73s 979ms/step - loss: 0.1230 - accuracy: 0.2592 - val_loss: 0.1263 - val_accuracy: 0.1517\n",
      "Epoch 6/10\n",
      "75/75 [==============================] - 73s 977ms/step - loss: 0.1229 - accuracy: 0.2650 - val_loss: 0.1270 - val_accuracy: 0.1550\n",
      "Epoch 7/10\n",
      "75/75 [==============================] - 73s 977ms/step - loss: 0.1227 - accuracy: 0.2683 - val_loss: 0.1281 - val_accuracy: 0.1633\n",
      "Epoch 8/10\n",
      "75/75 [==============================] - 70s 932ms/step - loss: 0.1225 - accuracy: 0.2704 - val_loss: 0.1278 - val_accuracy: 0.1700\n",
      "Epoch 9/10\n",
      "75/75 [==============================] - 71s 950ms/step - loss: 0.1222 - accuracy: 0.2729 - val_loss: 0.1279 - val_accuracy: 0.1650\n",
      "Epoch 10/10\n",
      "75/75 [==============================] - 76s 1s/step - loss: 0.1223 - accuracy: 0.2833 - val_loss: 0.1276 - val_accuracy: 0.1467\n"
     ]
    }
   ],
   "source": [
    "Epochs=10\n",
    "early_stopping = tf.keras.callbacks.EarlyStopping(monitor='val_loss', patience=5,restore_best_weights=True)\n",
    "history = model.fit(X_train,y_train,\n",
    "                    epochs=Epochs,\n",
    "                    validation_data=(X_val,y_val),\n",
    "                    batch_size=32,\n",
    "                    verbose=1)    #,callbacks=[early_stopping]"
   ]
  },
  {
   "cell_type": "code",
   "execution_count": 21,
   "metadata": {},
   "outputs": [
    {
     "data": {
      "text/plain": [
       "dict_keys(['loss', 'accuracy', 'val_loss', 'val_accuracy'])"
      ]
     },
     "execution_count": 21,
     "metadata": {},
     "output_type": "execute_result"
    }
   ],
   "source": [
    "history.history.keys()"
   ]
  },
  {
   "cell_type": "code",
   "execution_count": 22,
   "metadata": {},
   "outputs": [
    {
     "data": {
      "image/png": "[encoded data removed]",
      "text/plain": [
       "<Figure size 800x800 with 2 Axes>"
      ]
     },
     "metadata": {},
     "output_type": "display_data"
    }
   ],
   "source": [
    "training_accuracy = history.history['accuracy']\n",
    "validation_accuracy = history.history['val_accuracy']\n",
    "\n",
    "training_loss = history.history['loss']\n",
    "validation_loss = history.history['val_loss']\n",
    "\n",
    "epochs_range=range(Epochs)\n",
    "\n",
    "plt.figure(figsize=(8, 8))\n",
    "plt.subplot(1, 2, 1)\n",
    "plt.plot(epochs_range, training_accuracy, label='Training Accuracy')\n",
    "plt.plot(epochs_range, validation_accuracy, label='Validation Accuracy')\n",
    "plt.legend(loc='lower right')\n",
    "plt.title('Training and Validation Accuracy')\n",
    "\n",
    "plt.subplot(1, 2, 2)\n",
    "plt.plot(epochs_range, training_loss, label='Training Loss')\n",
    "plt.plot(epochs_range, validation_loss, label='Validation Loss')\n",
    "plt.legend(loc='upper right')\n",
    "plt.title('Training and Validation Loss')\n",
    "plt.show()"
   ]
  },
  {
   "cell_type": "code",
   "execution_count": 23,
   "metadata": {},
   "outputs": [
    {
     "name": "stdout",
     "output_type": "stream",
     "text": [
      "75/75 [==============================] - 8s 106ms/step - loss: 0.1213 - accuracy: 0.2754\n"
     ]
    },
    {
     "data": {
      "text/plain": [
       "[0.12126870453357697, 0.27541667222976685]"
      ]
     },
     "execution_count": 23,
     "metadata": {},
     "output_type": "execute_result"
    }
   ],
   "source": [
    "model.evaluate(X_train,y_train)"
   ]
  },
  {
   "cell_type": "code",
   "execution_count": 24,
   "metadata": {},
   "outputs": [
    {
     "name": "stdout",
     "output_type": "stream",
     "text": [
      "19/19 [==============================] - 2s 106ms/step - loss: 0.1276 - accuracy: 0.1467\n"
     ]
    },
    {
     "data": {
      "text/plain": [
       "[0.12757791578769684, 0.14666666090488434]"
      ]
     },
     "execution_count": 24,
     "metadata": {},
     "output_type": "execute_result"
    }
   ],
   "source": [
    "model.evaluate(X_val,y_val)"
   ]
  },
  {
   "cell_type": "code",
   "execution_count": null,
   "metadata": {},
   "outputs": [],
   "source": []
  }
 ],
 "metadata": {
  "colab": {
   "provenance": []
  },
  "gpuClass": "standard",
  "kernelspec": {
   "display_name": "base",
   "language": "python",
   "name": "python3"
  },
  "language_info": {
   "codemirror_mode": {
    "name": "ipython",
    "version": 3
   },
   "file_extension": ".py",
   "mimetype": "text/x-python",
   "name": "python",
   "nbconvert_exporter": "python",
   "pygments_lexer": "ipython3",
   "version": "3.9.13"
  },
  "vscode": {
   "interpreter": {
    "hash": "a47d0e2911489018702d96dff3d34035493b3b1d45865abb5b89591fac2af3b0"
   }
  }
 },
 "nbformat": 4,
 "nbformat_minor": 1
}
