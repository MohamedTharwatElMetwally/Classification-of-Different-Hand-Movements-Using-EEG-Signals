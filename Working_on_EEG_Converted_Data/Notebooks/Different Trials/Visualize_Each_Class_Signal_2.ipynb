{
 "cells": [
  {
   "cell_type": "markdown",
   "metadata": {},
   "source": [
    "## Arm Reaching (RM Session 1)"
   ]
  },
  {
   "cell_type": "code",
   "execution_count": 1,
   "metadata": {
    "colab": {
     "base_uri": "https://localhost:8080/"
    },
    "id": "aITeIwSXXffW",
    "outputId": "a881459e-729d-4691-d14b-3f934411cbbb"
   },
   "outputs": [],
   "source": [
    "import os\n",
    "import glob\n",
    "import numpy as np\n",
    "import mne\n",
    "import pandas as pd\n",
    "import tensorflow as tf\n",
    "import matplotlib.pyplot as plt\n",
    "import warnings\n",
    "from pathlib import Path\n",
    "from sklearn.preprocessing import MinMaxScaler\n",
    "from sklearn.model_selection import train_test_split\n",
    "# from google.colab import drive\n",
    "# drive.mount('/content/drive')\n",
    "from scipy.io import loadmat\n",
    "from scipy.signal import butter, lfilter\n",
    "warnings.filterwarnings('ignore')"
   ]
  },
  {
   "cell_type": "markdown",
   "metadata": {},
   "source": [
    "### read paths of all .mat files in a list"
   ]
  },
  {
   "cell_type": "code",
   "execution_count": 2,
   "metadata": {
    "colab": {
     "base_uri": "https://localhost:8080/"
    },
    "id": "YzEQTgqqXffZ",
    "outputId": "f602cf65-58d6-4cc4-9610-c5201a2a67db"
   },
   "outputs": [
    {
     "name": "stdout",
     "output_type": "stream",
     "text": [
      "EEG_session1_sub10_reaching_realMove.mat\n",
      "EEG_session1_sub11_reaching_realMove.mat\n",
      "EEG_session1_sub12_reaching_realMove.mat\n",
      "EEG_session1_sub13_reaching_realMove.mat\n",
      "EEG_session1_sub14_reaching_realMove.mat\n",
      "EEG_session1_sub15_reaching_realMove.mat\n",
      "EEG_session1_sub16_reaching_realMove.mat\n",
      "EEG_session1_sub17_reaching_realMove.mat\n",
      "EEG_session1_sub18_reaching_realMove.mat\n",
      "EEG_session1_sub19_reaching_realMove.mat\n",
      "EEG_session1_sub1_reaching_realMove.mat\n",
      "EEG_session1_sub20_reaching_realMove.mat\n",
      "EEG_session1_sub21_reaching_realMove.mat\n",
      "EEG_session1_sub22_reaching_realMove.mat\n",
      "EEG_session1_sub23_reaching_realMove.mat\n",
      "EEG_session1_sub24_reaching_realMove.mat\n",
      "EEG_session1_sub25_reaching_realMove.mat\n",
      "EEG_session1_sub2_reaching_realMove.mat\n",
      "EEG_session1_sub3_reaching_realMove.mat\n",
      "EEG_session1_sub4_reaching_realMove.mat\n",
      "EEG_session1_sub5_reaching_realMove.mat\n",
      "EEG_session1_sub6_reaching_realMove.mat\n",
      "EEG_session1_sub7_reaching_realMove.mat\n",
      "EEG_session1_sub8_reaching_realMove.mat\n",
      "EEG_session1_sub9_reaching_realMove.mat\n"
     ]
    }
   ],
   "source": [
    "folder_path=r'D:\\EEG_ConvertedData\\EEG_ConvertedData\\Arm-reaching\\Session 1\\RM'\n",
    "folder_files=os.listdir(folder_path)\n",
    "for i in folder_files:\n",
    "    print(i)"
   ]
  },
  {
   "cell_type": "code",
   "execution_count": 3,
   "metadata": {
    "colab": {
     "base_uri": "https://localhost:8080/"
    },
    "id": "5yCP1Wn4Xffb",
    "outputId": "e071f65f-5251-4276-9628-c4f77f59fefb"
   },
   "outputs": [
    {
     "name": "stdout",
     "output_type": "stream",
     "text": [
      "D:\\EEG_ConvertedData\\EEG_ConvertedData\\Arm-reaching\\Session 1\\RM\\EEG_session1_sub10_reaching_realMove.mat\n",
      "D:\\EEG_ConvertedData\\EEG_ConvertedData\\Arm-reaching\\Session 1\\RM\\EEG_session1_sub11_reaching_realMove.mat\n",
      "D:\\EEG_ConvertedData\\EEG_ConvertedData\\Arm-reaching\\Session 1\\RM\\EEG_session1_sub12_reaching_realMove.mat\n",
      "D:\\EEG_ConvertedData\\EEG_ConvertedData\\Arm-reaching\\Session 1\\RM\\EEG_session1_sub13_reaching_realMove.mat\n",
      "D:\\EEG_ConvertedData\\EEG_ConvertedData\\Arm-reaching\\Session 1\\RM\\EEG_session1_sub14_reaching_realMove.mat\n",
      "D:\\EEG_ConvertedData\\EEG_ConvertedData\\Arm-reaching\\Session 1\\RM\\EEG_session1_sub15_reaching_realMove.mat\n",
      "D:\\EEG_ConvertedData\\EEG_ConvertedData\\Arm-reaching\\Session 1\\RM\\EEG_session1_sub16_reaching_realMove.mat\n",
      "D:\\EEG_ConvertedData\\EEG_ConvertedData\\Arm-reaching\\Session 1\\RM\\EEG_session1_sub17_reaching_realMove.mat\n",
      "D:\\EEG_ConvertedData\\EEG_ConvertedData\\Arm-reaching\\Session 1\\RM\\EEG_session1_sub18_reaching_realMove.mat\n",
      "D:\\EEG_ConvertedData\\EEG_ConvertedData\\Arm-reaching\\Session 1\\RM\\EEG_session1_sub19_reaching_realMove.mat\n",
      "D:\\EEG_ConvertedData\\EEG_ConvertedData\\Arm-reaching\\Session 1\\RM\\EEG_session1_sub1_reaching_realMove.mat\n",
      "D:\\EEG_ConvertedData\\EEG_ConvertedData\\Arm-reaching\\Session 1\\RM\\EEG_session1_sub20_reaching_realMove.mat\n",
      "D:\\EEG_ConvertedData\\EEG_ConvertedData\\Arm-reaching\\Session 1\\RM\\EEG_session1_sub21_reaching_realMove.mat\n",
      "D:\\EEG_ConvertedData\\EEG_ConvertedData\\Arm-reaching\\Session 1\\RM\\EEG_session1_sub22_reaching_realMove.mat\n",
      "D:\\EEG_ConvertedData\\EEG_ConvertedData\\Arm-reaching\\Session 1\\RM\\EEG_session1_sub23_reaching_realMove.mat\n",
      "D:\\EEG_ConvertedData\\EEG_ConvertedData\\Arm-reaching\\Session 1\\RM\\EEG_session1_sub24_reaching_realMove.mat\n",
      "D:\\EEG_ConvertedData\\EEG_ConvertedData\\Arm-reaching\\Session 1\\RM\\EEG_session1_sub25_reaching_realMove.mat\n",
      "D:\\EEG_ConvertedData\\EEG_ConvertedData\\Arm-reaching\\Session 1\\RM\\EEG_session1_sub2_reaching_realMove.mat\n",
      "D:\\EEG_ConvertedData\\EEG_ConvertedData\\Arm-reaching\\Session 1\\RM\\EEG_session1_sub3_reaching_realMove.mat\n",
      "D:\\EEG_ConvertedData\\EEG_ConvertedData\\Arm-reaching\\Session 1\\RM\\EEG_session1_sub4_reaching_realMove.mat\n",
      "D:\\EEG_ConvertedData\\EEG_ConvertedData\\Arm-reaching\\Session 1\\RM\\EEG_session1_sub5_reaching_realMove.mat\n",
      "D:\\EEG_ConvertedData\\EEG_ConvertedData\\Arm-reaching\\Session 1\\RM\\EEG_session1_sub6_reaching_realMove.mat\n",
      "D:\\EEG_ConvertedData\\EEG_ConvertedData\\Arm-reaching\\Session 1\\RM\\EEG_session1_sub7_reaching_realMove.mat\n",
      "D:\\EEG_ConvertedData\\EEG_ConvertedData\\Arm-reaching\\Session 1\\RM\\EEG_session1_sub8_reaching_realMove.mat\n",
      "D:\\EEG_ConvertedData\\EEG_ConvertedData\\Arm-reaching\\Session 1\\RM\\EEG_session1_sub9_reaching_realMove.mat\n"
     ]
    }
   ],
   "source": [
    "matfiles=[]\n",
    "for i in folder_files:\n",
    "    file=folder_path+'\\\\'+i\n",
    "    matfiles.append(file) \n",
    "for i in matfiles:\n",
    "    print(i)"
   ]
  },
  {
   "cell_type": "markdown",
   "metadata": {},
   "source": [
    "### explore all keys for a file"
   ]
  },
  {
   "cell_type": "code",
   "execution_count": 4,
   "metadata": {
    "colab": {
     "base_uri": "https://localhost:8080/"
    },
    "id": "5hORASkKXffd",
    "outputId": "9d8b0c39-cd7c-494a-f187-ecd1061ae868"
   },
   "outputs": [
    {
     "data": {
      "text/plain": [
       "dict_keys(['__header__', '__version__', '__globals__', 'mrk', 'mnt', 'nfo', 'ch1', 'ch2', 'ch3', 'ch4', 'ch5', 'ch6', 'ch7', 'ch8', 'ch9', 'ch10', 'ch11', 'ch12', 'ch13', 'ch14', 'ch15', 'ch16', 'ch17', 'ch18', 'ch19', 'ch20', 'ch21', 'ch22', 'ch23', 'ch24', 'ch25', 'ch26', 'ch27', 'ch28', 'ch29', 'ch30', 'ch31', 'ch32', 'ch33', 'ch34', 'ch35', 'ch36', 'ch37', 'ch38', 'ch39', 'ch40', 'ch41', 'ch42', 'ch43', 'ch44', 'ch45', 'ch46', 'ch47', 'ch48', 'ch49', 'ch50', 'ch51', 'ch52', 'ch53', 'ch54', 'ch55', 'ch56', 'ch57', 'ch58', 'ch59', 'ch60', 'dat'])"
      ]
     },
     "execution_count": 4,
     "metadata": {},
     "output_type": "execute_result"
    }
   ],
   "source": [
    "temp = loadmat(matfiles[0])\n",
    "temp.keys()"
   ]
  },
  {
   "cell_type": "code",
   "execution_count": 5,
   "metadata": {
    "colab": {
     "base_uri": "https://localhost:8080/"
    },
    "id": "gZeWfp8WXffd",
    "outputId": "5d69d33e-9dd1-457f-a8d7-ab6f2bd2d33d"
   },
   "outputs": [
    {
     "name": "stdout",
     "output_type": "stream",
     "text": [
      "ch1  :  Fp1\n",
      "ch2  :  AF7\n",
      "ch3  :  AF3\n",
      "ch4  :  AFz\n",
      "ch5  :  F7\n",
      "ch6  :  F5\n",
      "ch7  :  F3\n",
      "ch8  :  F1\n",
      "ch9  :  Fz\n",
      "ch10  :  FT7\n",
      "ch11  :  FC5\n",
      "ch12  :  FC3\n",
      "ch13  :  FC1\n",
      "ch14  :  T7\n",
      "ch15  :  C5\n",
      "ch16  :  C3\n",
      "ch17  :  C1\n",
      "ch18  :  Cz\n",
      "ch19  :  TP7\n",
      "ch20  :  CP5\n",
      "ch21  :  CP3\n",
      "ch22  :  CP1\n",
      "ch23  :  CPz\n",
      "ch24  :  P7\n",
      "ch25  :  P5\n",
      "ch26  :  P3\n",
      "ch27  :  P1\n",
      "ch28  :  Pz\n",
      "ch29  :  PO7\n",
      "ch30  :  PO3\n",
      "ch31  :  POz\n",
      "ch32  :  Fp2\n",
      "ch33  :  AF4\n",
      "ch34  :  AF8\n",
      "ch35  :  F2\n",
      "ch36  :  F4\n",
      "ch37  :  F6\n",
      "ch38  :  F8\n",
      "ch39  :  FC2\n",
      "ch40  :  FC4\n",
      "ch41  :  FC6\n",
      "ch42  :  FT8\n",
      "ch43  :  C2\n",
      "ch44  :  C4\n",
      "ch45  :  C6\n",
      "ch46  :  T8\n",
      "ch47  :  CP2\n",
      "ch48  :  CP4\n",
      "ch49  :  CP6\n",
      "ch50  :  TP8\n",
      "ch51  :  P2\n",
      "ch52  :  P4\n",
      "ch53  :  P6\n",
      "ch54  :  P8\n",
      "ch55  :  PO4\n",
      "ch56  :  PO8\n",
      "ch57  :  O1\n",
      "ch58  :  Oz\n",
      "ch59  :  O2\n",
      "ch60  :  Iz\n"
     ]
    }
   ],
   "source": [
    "col=1\n",
    "for i in temp['nfo'][0][0][0][0]:\n",
    "    print('ch'+str(col),' : ',i[0],end = '\\n')\n",
    "    col+=1"
   ]
  },
  {
   "cell_type": "markdown",
   "metadata": {},
   "source": [
    "### to_data_frame() :\n",
    "- prepare a file in data frame\n",
    "- map the labels correctly for their trials\n",
    "- drop unnecessary channels\n",
    "- take selected count of trials"
   ]
  },
  {
   "cell_type": "code",
   "execution_count": 6,
   "metadata": {
    "id": "sYULWTe_Xffe"
   },
   "outputs": [],
   "source": [
    "def to_data_frame(matfile,selected_channels,number_of_trials):\n",
    "\n",
    "    #load the mat file\n",
    "    data = loadmat(matfile)\n",
    "\n",
    "    #new data frame to extract the target data\n",
    "    df=pd.DataFrame()\n",
    "\n",
    "    #the scientific name for the selected electrodes\n",
    "    selected_electrodes=[]\n",
    "    for i in selected_channels:\n",
    "        # selected_electrodes.append('ch'+str(i)+'_'+data['nfo'][0][0][0][0][i-1][0])\n",
    "        selected_electrodes.append(data['nfo'][0][0][0][0][i-1][0])\n",
    "\n",
    "    #select target channels in the data frame   \n",
    "    index=0\n",
    "    for i in selected_electrodes:\n",
    "        added_channel = pd.DataFrame(data['ch'+str(selected_channels[index])],columns =[i])\n",
    "        df = pd.concat([df,added_channel],axis=1)\n",
    "        index+=1\n",
    "\n",
    "    #add labels col & initialize withe none\n",
    "    labels = np.empty(data['nfo'][0][0][2][0][0])  # data['nfo'][0][0][2][0][0] --> return number of frames (rows)\n",
    "    labels.fill(np.nan) \n",
    "    trials =np.empty(data['nfo'][0][0][2][0][0])\n",
    "    trials.fill(np.nan)\n",
    "\n",
    "    #dictionary for mapping triger events to numbers from 0 to 6 in the same order \n",
    "    label_decode ={11:0 , 21:1 , 31:2 , 41:3 , 51:4 , 61:5 , 8:6}\n",
    "\n",
    "    #labels extraction\n",
    "    start_point_info = data['mrk'][0][0][5][0][0][0][0][0] \n",
    "    end_point_info = data['mrk'][0][0][5][0][0][0][0][1]\n",
    "    trigger_marking_time = data['mrk'][0][0][0][0]\n",
    "    trigger_number = data['mrk'][0][0][1][0]\n",
    "    last_trial ={0:0 , 1:0 , 2:0 , 3:0 , 4:0 , 5:0 , 6:0}\n",
    "\n",
    "    \n",
    "    for i in range (0,data['nfo'][0][0][8][0][0]): # data['nfo'][0][0][8][0][0] --> 600 (300 trial + 300 rest period)\n",
    "\n",
    "        start,end=0,0\n",
    "        label=label_decode[trigger_number[i]]\n",
    "\n",
    "        if last_trial[label]==number_of_trials:\n",
    "            continue\n",
    "\n",
    "        if i==0:\n",
    "            start=start_point_info\n",
    "            end=trigger_marking_time[i]\n",
    "        elif i==599:\n",
    "            start=trigger_marking_time[i]\n",
    "            end=end_point_info\n",
    "        else:\n",
    "            start=trigger_marking_time[i-1]\n",
    "            end=trigger_marking_time[i]\n",
    "        \n",
    "        if end-start<18000: # each file has one outlier trial\n",
    "            last_trial[label]+=1\n",
    "            if label!=6: # if label refers to one movement, then take only the 4s of the execution of trial and ignore the 3s of visual cue\n",
    "                for j in range (end-10000,end):\n",
    "                    labels[j]=label\n",
    "                    trials[j]=last_trial[label]\n",
    "            else:\n",
    "                for j in range (end-10000,end):\n",
    "                    labels[j]=label\n",
    "                    trials[j]=last_trial[label]  \n",
    "\n",
    "       \n",
    "    df=df.assign(Label=labels)\n",
    "    df=df.assign(Trial=trials)\n",
    "\n",
    "    #drop rest of rows which didn't assigned to label\n",
    "    df.dropna(how='any',inplace=True)\n",
    "     \n",
    "    return df\n",
    "    "
   ]
  },
  {
   "cell_type": "code",
   "execution_count": 7,
   "metadata": {},
   "outputs": [],
   "source": [
    "def to_ndarray(df,selected_channels,number_of_trials,sampling_frequency,trial_duration):\n",
    "\n",
    "    #intialize ndarray for data (#trials,#channels,#samples) & 1d array for labels\n",
    "    trials_data = np.empty(shape=(7 * number_of_trials , len(selected_channels) , sampling_frequency * trial_duration))\n",
    "    trials_labels = []\n",
    "\n",
    "    trial_no=-1\n",
    "    counter=0\n",
    "    for index, row in df.iterrows():\n",
    "       if counter%10000==0:\n",
    "           trials_labels.append(row[len(selected_channels)])\n",
    "           trial_no+=1\n",
    "       for i in range(0,len(selected_channels)):\n",
    "           trials_data[trial_no][i]=row[i]  \n",
    "       counter+=1\n",
    "\n",
    "    # trials_labels=tf.keras.utils.to_categorical(trials_labels,num_classes=7)     \n",
    "\n",
    "    return trials_data , trials_labels\n",
    "    "
   ]
  },
  {
   "cell_type": "code",
   "execution_count": 8,
   "metadata": {
    "id": "cxU55LcKXfff"
   },
   "outputs": [],
   "source": [
    "# chan_names = [\"Fp1\", \"AF3\",\"F7\",\"F3\",\"FC1\",\"FC5\",\"T7\",\"C3\",\"CP1\",\"CP5\",\"P7\",\"P3\",\"Pz\", \n",
    "#               \"PO3\", \"O1\",\"Oz\",\"O2\",\"PO4\",\"P4\",\"P8\",\"P6\",\"CP2\",\"C4\", \"T8\",\"FC6\",\"FC2\",\n",
    "#               \"F4\",  \"F8\",\"AF4\",\"Fp2\",\"Fz\",\"Cz\"] \n",
    "selected_channels=[1,3,5,7,9,11,13,14,16,18,20,22,24,26,28,30,32,33,36,38,39,41,44,46,47,52,53,54,55,57,58,59]\n",
    "\n",
    "# selected_channels=[2,3,4,6,7,8,9,11,12,13,14,15,16,17,18]\n",
    "labels_codes ={0:'Forward' , 1:'Backward' , 2:'Left' , 3:'Right' , 4:'Up' , 5:'Down' , 6:'Rest'}\n",
    "number_of_trials=10  #selected number of trials for each class\n",
    "sampling_frequency=2500\n",
    "trial_duration = 4"
   ]
  },
  {
   "cell_type": "code",
   "execution_count": 9,
   "metadata": {
    "id": "9L1pq5u7Xffg"
   },
   "outputs": [],
   "source": [
    "df=to_data_frame(matfiles[0],selected_channels,number_of_trials)"
   ]
  },
  {
   "cell_type": "code",
   "execution_count": 10,
   "metadata": {},
   "outputs": [
    {
     "data": {
      "text/html": [
       "<div>\n",
       "<style scoped>\n",
       "    .dataframe tbody tr th:only-of-type {\n",
       "        vertical-align: middle;\n",
       "    }\n",
       "\n",
       "    .dataframe tbody tr th {\n",
       "        vertical-align: top;\n",
       "    }\n",
       "\n",
       "    .dataframe thead th {\n",
       "        text-align: right;\n",
       "    }\n",
       "</style>\n",
       "<table border=\"1\" class=\"dataframe\">\n",
       "  <thead>\n",
       "    <tr style=\"text-align: right;\">\n",
       "      <th></th>\n",
       "      <th>Fp1</th>\n",
       "      <th>AF3</th>\n",
       "      <th>F7</th>\n",
       "      <th>F3</th>\n",
       "      <th>Fz</th>\n",
       "      <th>FC5</th>\n",
       "      <th>FC1</th>\n",
       "      <th>T7</th>\n",
       "      <th>C3</th>\n",
       "      <th>Cz</th>\n",
       "      <th>...</th>\n",
       "      <th>CP2</th>\n",
       "      <th>P4</th>\n",
       "      <th>P6</th>\n",
       "      <th>P8</th>\n",
       "      <th>PO4</th>\n",
       "      <th>O1</th>\n",
       "      <th>Oz</th>\n",
       "      <th>O2</th>\n",
       "      <th>Label</th>\n",
       "      <th>Trial</th>\n",
       "    </tr>\n",
       "  </thead>\n",
       "  <tbody>\n",
       "    <tr>\n",
       "      <th>49428</th>\n",
       "      <td>-3920</td>\n",
       "      <td>-4157</td>\n",
       "      <td>-4118</td>\n",
       "      <td>-12469</td>\n",
       "      <td>536</td>\n",
       "      <td>-2588</td>\n",
       "      <td>4779</td>\n",
       "      <td>-838</td>\n",
       "      <td>-8255</td>\n",
       "      <td>-9350</td>\n",
       "      <td>...</td>\n",
       "      <td>-14800</td>\n",
       "      <td>-634</td>\n",
       "      <td>-2672</td>\n",
       "      <td>-4858</td>\n",
       "      <td>-5525</td>\n",
       "      <td>-5454</td>\n",
       "      <td>-4089</td>\n",
       "      <td>-776</td>\n",
       "      <td>2.0</td>\n",
       "      <td>1.0</td>\n",
       "    </tr>\n",
       "    <tr>\n",
       "      <th>49429</th>\n",
       "      <td>-3930</td>\n",
       "      <td>-4159</td>\n",
       "      <td>-4110</td>\n",
       "      <td>-12458</td>\n",
       "      <td>523</td>\n",
       "      <td>-2552</td>\n",
       "      <td>4790</td>\n",
       "      <td>-821</td>\n",
       "      <td>-8202</td>\n",
       "      <td>-9327</td>\n",
       "      <td>...</td>\n",
       "      <td>-14745</td>\n",
       "      <td>-599</td>\n",
       "      <td>-2636</td>\n",
       "      <td>-4828</td>\n",
       "      <td>-5489</td>\n",
       "      <td>-5401</td>\n",
       "      <td>-4036</td>\n",
       "      <td>-752</td>\n",
       "      <td>2.0</td>\n",
       "      <td>1.0</td>\n",
       "    </tr>\n",
       "    <tr>\n",
       "      <th>49430</th>\n",
       "      <td>-3940</td>\n",
       "      <td>-4161</td>\n",
       "      <td>-4102</td>\n",
       "      <td>-12447</td>\n",
       "      <td>509</td>\n",
       "      <td>-2514</td>\n",
       "      <td>4799</td>\n",
       "      <td>-803</td>\n",
       "      <td>-8148</td>\n",
       "      <td>-9304</td>\n",
       "      <td>...</td>\n",
       "      <td>-14693</td>\n",
       "      <td>-562</td>\n",
       "      <td>-2601</td>\n",
       "      <td>-4801</td>\n",
       "      <td>-5450</td>\n",
       "      <td>-5353</td>\n",
       "      <td>-3989</td>\n",
       "      <td>-729</td>\n",
       "      <td>2.0</td>\n",
       "      <td>1.0</td>\n",
       "    </tr>\n",
       "    <tr>\n",
       "      <th>49431</th>\n",
       "      <td>-3951</td>\n",
       "      <td>-4164</td>\n",
       "      <td>-4093</td>\n",
       "      <td>-12432</td>\n",
       "      <td>495</td>\n",
       "      <td>-2474</td>\n",
       "      <td>4817</td>\n",
       "      <td>-786</td>\n",
       "      <td>-8094</td>\n",
       "      <td>-9278</td>\n",
       "      <td>...</td>\n",
       "      <td>-14644</td>\n",
       "      <td>-527</td>\n",
       "      <td>-2564</td>\n",
       "      <td>-4774</td>\n",
       "      <td>-5411</td>\n",
       "      <td>-5307</td>\n",
       "      <td>-3944</td>\n",
       "      <td>-706</td>\n",
       "      <td>2.0</td>\n",
       "      <td>1.0</td>\n",
       "    </tr>\n",
       "    <tr>\n",
       "      <th>49432</th>\n",
       "      <td>-3962</td>\n",
       "      <td>-4164</td>\n",
       "      <td>-4084</td>\n",
       "      <td>-12418</td>\n",
       "      <td>481</td>\n",
       "      <td>-2435</td>\n",
       "      <td>4828</td>\n",
       "      <td>-770</td>\n",
       "      <td>-8041</td>\n",
       "      <td>-9253</td>\n",
       "      <td>...</td>\n",
       "      <td>-14597</td>\n",
       "      <td>-494</td>\n",
       "      <td>-2531</td>\n",
       "      <td>-4750</td>\n",
       "      <td>-5376</td>\n",
       "      <td>-5267</td>\n",
       "      <td>-3903</td>\n",
       "      <td>-686</td>\n",
       "      <td>2.0</td>\n",
       "      <td>1.0</td>\n",
       "    </tr>\n",
       "    <tr>\n",
       "      <th>...</th>\n",
       "      <td>...</td>\n",
       "      <td>...</td>\n",
       "      <td>...</td>\n",
       "      <td>...</td>\n",
       "      <td>...</td>\n",
       "      <td>...</td>\n",
       "      <td>...</td>\n",
       "      <td>...</td>\n",
       "      <td>...</td>\n",
       "      <td>...</td>\n",
       "      <td>...</td>\n",
       "      <td>...</td>\n",
       "      <td>...</td>\n",
       "      <td>...</td>\n",
       "      <td>...</td>\n",
       "      <td>...</td>\n",
       "      <td>...</td>\n",
       "      <td>...</td>\n",
       "      <td>...</td>\n",
       "      <td>...</td>\n",
       "      <td>...</td>\n",
       "    </tr>\n",
       "    <tr>\n",
       "      <th>1965551</th>\n",
       "      <td>487</td>\n",
       "      <td>2050</td>\n",
       "      <td>-1128</td>\n",
       "      <td>-4322</td>\n",
       "      <td>8708</td>\n",
       "      <td>5975</td>\n",
       "      <td>8394</td>\n",
       "      <td>1711</td>\n",
       "      <td>7403</td>\n",
       "      <td>3761</td>\n",
       "      <td>...</td>\n",
       "      <td>6736</td>\n",
       "      <td>12386</td>\n",
       "      <td>9233</td>\n",
       "      <td>7837</td>\n",
       "      <td>8360</td>\n",
       "      <td>9533</td>\n",
       "      <td>9962</td>\n",
       "      <td>3364</td>\n",
       "      <td>5.0</td>\n",
       "      <td>10.0</td>\n",
       "    </tr>\n",
       "    <tr>\n",
       "      <th>1965552</th>\n",
       "      <td>486</td>\n",
       "      <td>2059</td>\n",
       "      <td>-1122</td>\n",
       "      <td>-4308</td>\n",
       "      <td>8736</td>\n",
       "      <td>5970</td>\n",
       "      <td>8362</td>\n",
       "      <td>1704</td>\n",
       "      <td>7369</td>\n",
       "      <td>3753</td>\n",
       "      <td>...</td>\n",
       "      <td>6729</td>\n",
       "      <td>12368</td>\n",
       "      <td>9187</td>\n",
       "      <td>7795</td>\n",
       "      <td>8344</td>\n",
       "      <td>9455</td>\n",
       "      <td>9897</td>\n",
       "      <td>3344</td>\n",
       "      <td>5.0</td>\n",
       "      <td>10.0</td>\n",
       "    </tr>\n",
       "    <tr>\n",
       "      <th>1965553</th>\n",
       "      <td>484</td>\n",
       "      <td>2066</td>\n",
       "      <td>-1116</td>\n",
       "      <td>-4290</td>\n",
       "      <td>8767</td>\n",
       "      <td>5965</td>\n",
       "      <td>8333</td>\n",
       "      <td>1697</td>\n",
       "      <td>7334</td>\n",
       "      <td>3741</td>\n",
       "      <td>...</td>\n",
       "      <td>6725</td>\n",
       "      <td>12357</td>\n",
       "      <td>9142</td>\n",
       "      <td>7755</td>\n",
       "      <td>8330</td>\n",
       "      <td>9379</td>\n",
       "      <td>9833</td>\n",
       "      <td>3325</td>\n",
       "      <td>5.0</td>\n",
       "      <td>10.0</td>\n",
       "    </tr>\n",
       "    <tr>\n",
       "      <th>1965554</th>\n",
       "      <td>484</td>\n",
       "      <td>2074</td>\n",
       "      <td>-1110</td>\n",
       "      <td>-4273</td>\n",
       "      <td>8797</td>\n",
       "      <td>5959</td>\n",
       "      <td>8306</td>\n",
       "      <td>1689</td>\n",
       "      <td>7293</td>\n",
       "      <td>3735</td>\n",
       "      <td>...</td>\n",
       "      <td>6716</td>\n",
       "      <td>12338</td>\n",
       "      <td>9096</td>\n",
       "      <td>7709</td>\n",
       "      <td>8311</td>\n",
       "      <td>9292</td>\n",
       "      <td>9764</td>\n",
       "      <td>3303</td>\n",
       "      <td>5.0</td>\n",
       "      <td>10.0</td>\n",
       "    </tr>\n",
       "    <tr>\n",
       "      <th>1965555</th>\n",
       "      <td>484</td>\n",
       "      <td>2083</td>\n",
       "      <td>-1105</td>\n",
       "      <td>-4260</td>\n",
       "      <td>8827</td>\n",
       "      <td>5952</td>\n",
       "      <td>8270</td>\n",
       "      <td>1681</td>\n",
       "      <td>7249</td>\n",
       "      <td>3724</td>\n",
       "      <td>...</td>\n",
       "      <td>6701</td>\n",
       "      <td>12316</td>\n",
       "      <td>9045</td>\n",
       "      <td>7663</td>\n",
       "      <td>8289</td>\n",
       "      <td>9197</td>\n",
       "      <td>9689</td>\n",
       "      <td>3280</td>\n",
       "      <td>5.0</td>\n",
       "      <td>10.0</td>\n",
       "    </tr>\n",
       "  </tbody>\n",
       "</table>\n",
       "<p>700000 rows × 34 columns</p>\n",
       "</div>"
      ],
      "text/plain": [
       "          Fp1   AF3    F7     F3    Fz   FC5   FC1    T7    C3    Cz  ...  \\\n",
       "49428   -3920 -4157 -4118 -12469   536 -2588  4779  -838 -8255 -9350  ...   \n",
       "49429   -3930 -4159 -4110 -12458   523 -2552  4790  -821 -8202 -9327  ...   \n",
       "49430   -3940 -4161 -4102 -12447   509 -2514  4799  -803 -8148 -9304  ...   \n",
       "49431   -3951 -4164 -4093 -12432   495 -2474  4817  -786 -8094 -9278  ...   \n",
       "49432   -3962 -4164 -4084 -12418   481 -2435  4828  -770 -8041 -9253  ...   \n",
       "...       ...   ...   ...    ...   ...   ...   ...   ...   ...   ...  ...   \n",
       "1965551   487  2050 -1128  -4322  8708  5975  8394  1711  7403  3761  ...   \n",
       "1965552   486  2059 -1122  -4308  8736  5970  8362  1704  7369  3753  ...   \n",
       "1965553   484  2066 -1116  -4290  8767  5965  8333  1697  7334  3741  ...   \n",
       "1965554   484  2074 -1110  -4273  8797  5959  8306  1689  7293  3735  ...   \n",
       "1965555   484  2083 -1105  -4260  8827  5952  8270  1681  7249  3724  ...   \n",
       "\n",
       "           CP2     P4    P6    P8   PO4    O1    Oz    O2  Label  Trial  \n",
       "49428   -14800   -634 -2672 -4858 -5525 -5454 -4089  -776    2.0    1.0  \n",
       "49429   -14745   -599 -2636 -4828 -5489 -5401 -4036  -752    2.0    1.0  \n",
       "49430   -14693   -562 -2601 -4801 -5450 -5353 -3989  -729    2.0    1.0  \n",
       "49431   -14644   -527 -2564 -4774 -5411 -5307 -3944  -706    2.0    1.0  \n",
       "49432   -14597   -494 -2531 -4750 -5376 -5267 -3903  -686    2.0    1.0  \n",
       "...        ...    ...   ...   ...   ...   ...   ...   ...    ...    ...  \n",
       "1965551   6736  12386  9233  7837  8360  9533  9962  3364    5.0   10.0  \n",
       "1965552   6729  12368  9187  7795  8344  9455  9897  3344    5.0   10.0  \n",
       "1965553   6725  12357  9142  7755  8330  9379  9833  3325    5.0   10.0  \n",
       "1965554   6716  12338  9096  7709  8311  9292  9764  3303    5.0   10.0  \n",
       "1965555   6701  12316  9045  7663  8289  9197  9689  3280    5.0   10.0  \n",
       "\n",
       "[700000 rows x 34 columns]"
      ]
     },
     "execution_count": 10,
     "metadata": {},
     "output_type": "execute_result"
    }
   ],
   "source": [
    "df"
   ]
  },
  {
   "cell_type": "code",
   "execution_count": 11,
   "metadata": {
    "colab": {
     "base_uri": "https://localhost:8080/"
    },
    "id": "eTGDib6LlfLj",
    "outputId": "c76145a3-cabb-4c24-f129-57d8ce9d6b81"
   },
   "outputs": [
    {
     "data": {
      "text/plain": [
       "2.0    100000\n",
       "6.0    100000\n",
       "1.0    100000\n",
       "3.0    100000\n",
       "5.0    100000\n",
       "4.0    100000\n",
       "0.0    100000\n",
       "Name: Label, dtype: int64"
      ]
     },
     "execution_count": 11,
     "metadata": {},
     "output_type": "execute_result"
    }
   ],
   "source": [
    "df['Label'].value_counts()"
   ]
  },
  {
   "cell_type": "code",
   "execution_count": 12,
   "metadata": {},
   "outputs": [],
   "source": [
    "trials_data , trials_labels = to_ndarray(df,selected_channels,number_of_trials,sampling_frequency,trial_duration)"
   ]
  },
  {
   "cell_type": "code",
   "execution_count": 13,
   "metadata": {},
   "outputs": [
    {
     "data": {
      "text/plain": [
       "(70, 32, 10000)"
      ]
     },
     "execution_count": 13,
     "metadata": {},
     "output_type": "execute_result"
    }
   ],
   "source": [
    "trials_data.shape"
   ]
  },
  {
   "cell_type": "code",
   "execution_count": 14,
   "metadata": {},
   "outputs": [
    {
     "data": {
      "text/plain": [
       "70"
      ]
     },
     "execution_count": 14,
     "metadata": {},
     "output_type": "execute_result"
    }
   ],
   "source": [
    "len(trials_labels)"
   ]
  },
  {
   "cell_type": "code",
   "execution_count": 15,
   "metadata": {},
   "outputs": [
    {
     "data": {
      "text/plain": [
       "Index(['Fp1', 'AF3', 'F7', 'F3', 'Fz', 'FC5', 'FC1', 'T7', 'C3', 'Cz', 'CP5',\n",
       "       'CP1', 'P7', 'P3', 'Pz', 'PO3', 'Fp2', 'AF4', 'F4', 'F8', 'FC2', 'FC6',\n",
       "       'C4', 'T8', 'CP2', 'P4', 'P6', 'P8', 'PO4', 'O1', 'Oz', 'O2'],\n",
       "      dtype='object')"
      ]
     },
     "execution_count": 15,
     "metadata": {},
     "output_type": "execute_result"
    }
   ],
   "source": [
    "features=df.columns[0:len(selected_channels)]\n",
    "features"
   ]
  },
  {
   "cell_type": "code",
   "execution_count": 16,
   "metadata": {},
   "outputs": [
    {
     "data": {
      "text/plain": [
       "['Fp1',\n",
       " 'AF3',\n",
       " 'F7',\n",
       " 'F3',\n",
       " 'Fz',\n",
       " 'FC5',\n",
       " 'FC1',\n",
       " 'T7',\n",
       " 'C3',\n",
       " 'Cz',\n",
       " 'CP5',\n",
       " 'CP1',\n",
       " 'P7',\n",
       " 'P3',\n",
       " 'Pz',\n",
       " 'PO3',\n",
       " 'Fp2',\n",
       " 'AF4',\n",
       " 'F4',\n",
       " 'F8',\n",
       " 'FC2',\n",
       " 'FC6',\n",
       " 'C4',\n",
       " 'T8',\n",
       " 'CP2',\n",
       " 'P4',\n",
       " 'P6',\n",
       " 'P8',\n",
       " 'PO4',\n",
       " 'O1',\n",
       " 'Oz',\n",
       " 'O2']"
      ]
     },
     "execution_count": 16,
     "metadata": {},
     "output_type": "execute_result"
    }
   ],
   "source": [
    "list_features=features.to_list()\n",
    "list_features"
   ]
  },
  {
   "cell_type": "code",
   "execution_count": 17,
   "metadata": {},
   "outputs": [],
   "source": [
    "info = mne.create_info(\n",
    "    ch_names= list_features,\n",
    "    ch_types=['eeg']*len(list_features),\n",
    "    sfreq= sampling_frequency,\n",
    ")"
   ]
  },
  {
   "cell_type": "code",
   "execution_count": 18,
   "metadata": {},
   "outputs": [
    {
     "name": "stdout",
     "output_type": "stream",
     "text": [
      "Event created : <Info | 8 non-empty values\n",
      " bads: []\n",
      " ch_names: Fp1, AF3, F7, F3, Fz, FC5, FC1, T7, C3, Cz, CP5, CP1, P7, P3, ...\n",
      " chs: 32 EEG\n",
      " custom_ref_applied: False\n",
      " dig: 35 items (3 Cardinal, 32 EEG)\n",
      " highpass: 0.0 Hz\n",
      " lowpass: 1250.0 Hz\n",
      " meas_date: unspecified\n",
      " nchan: 32\n",
      " projs: []\n",
      " sfreq: 2500.0 Hz\n",
      ">\n"
     ]
    }
   ],
   "source": [
    "info.set_montage('standard_1020')\n",
    "print('Event created :', info)    "
   ]
  },
  {
   "cell_type": "code",
   "execution_count": 19,
   "metadata": {},
   "outputs": [],
   "source": [
    "# Create an event matrix: events with alternating event codes\n",
    "eventLength = len(trials_labels)\n",
    "ev = [i*sampling_frequency*trial_duration for i in range(eventLength)]"
   ]
  },
  {
   "cell_type": "code",
   "execution_count": 20,
   "metadata": {},
   "outputs": [],
   "source": [
    "events = np.column_stack((np.array(ev,dtype = int),\n",
    "                          np.zeros(eventLength,dtype = int),\n",
    "                          np.array(trials_labels,dtype = int)))"
   ]
  },
  {
   "cell_type": "code",
   "execution_count": 21,
   "metadata": {},
   "outputs": [
    {
     "data": {
      "text/plain": [
       "array([[     0,      0,      2],\n",
       "       [ 10000,      0,      6],\n",
       "       [ 20000,      0,      1],\n",
       "       [ 30000,      0,      6],\n",
       "       [ 40000,      0,      3],\n",
       "       [ 50000,      0,      6],\n",
       "       [ 60000,      0,      5],\n",
       "       [ 70000,      0,      6],\n",
       "       [ 80000,      0,      4],\n",
       "       [ 90000,      0,      6],\n",
       "       [100000,      0,      5],\n",
       "       [110000,      0,      6],\n",
       "       [120000,      0,      0],\n",
       "       [130000,      0,      6],\n",
       "       [140000,      0,      0],\n",
       "       [150000,      0,      6],\n",
       "       [160000,      0,      0],\n",
       "       [170000,      0,      6],\n",
       "       [180000,      0,      5],\n",
       "       [190000,      0,      6],\n",
       "       [200000,      0,      3],\n",
       "       [210000,      0,      0],\n",
       "       [220000,      0,      3],\n",
       "       [230000,      0,      1],\n",
       "       [240000,      0,      3],\n",
       "       [250000,      0,      1],\n",
       "       [260000,      0,      2],\n",
       "       [270000,      0,      2],\n",
       "       [280000,      0,      3],\n",
       "       [290000,      0,      2],\n",
       "       [300000,      0,      2],\n",
       "       [310000,      0,      4],\n",
       "       [320000,      0,      3],\n",
       "       [330000,      0,      0],\n",
       "       [340000,      0,      0],\n",
       "       [350000,      0,      5],\n",
       "       [360000,      0,      2],\n",
       "       [370000,      0,      5],\n",
       "       [380000,      0,      4],\n",
       "       [390000,      0,      3],\n",
       "       [400000,      0,      4],\n",
       "       [410000,      0,      1],\n",
       "       [420000,      0,      2],\n",
       "       [430000,      0,      0],\n",
       "       [440000,      0,      1],\n",
       "       [450000,      0,      3],\n",
       "       [460000,      0,      2],\n",
       "       [470000,      0,      5],\n",
       "       [480000,      0,      1],\n",
       "       [490000,      0,      0],\n",
       "       [500000,      0,      2],\n",
       "       [510000,      0,      2],\n",
       "       [520000,      0,      1],\n",
       "       [530000,      0,      0],\n",
       "       [540000,      0,      1],\n",
       "       [550000,      0,      5],\n",
       "       [560000,      0,      3],\n",
       "       [570000,      0,      4],\n",
       "       [580000,      0,      0],\n",
       "       [590000,      0,      5],\n",
       "       [600000,      0,      3],\n",
       "       [610000,      0,      4],\n",
       "       [620000,      0,      4],\n",
       "       [630000,      0,      1],\n",
       "       [640000,      0,      5],\n",
       "       [650000,      0,      4],\n",
       "       [660000,      0,      4],\n",
       "       [670000,      0,      1],\n",
       "       [680000,      0,      4],\n",
       "       [690000,      0,      5]])"
      ]
     },
     "execution_count": 21,
     "metadata": {},
     "output_type": "execute_result"
    }
   ],
   "source": [
    "events"
   ]
  },
  {
   "cell_type": "code",
   "execution_count": 22,
   "metadata": {},
   "outputs": [
    {
     "name": "stdout",
     "output_type": "stream",
     "text": [
      "Not setting metadata\n",
      "70 matching events found\n",
      "No baseline correction applied\n",
      "0 projection items activated\n"
     ]
    }
   ],
   "source": [
    "event_id = dict(Forward=0, Backward = 1, Left = 2, Right = 3, Up = 4, Down = 5, Rest = 6)\n",
    "tmin = 0                \n",
    "        # Create the :class:`mne.EpochsArray` object\n",
    "epochs = mne.EpochsArray(trials_data, info, events, tmin, event_id)"
   ]
  },
  {
   "cell_type": "code",
   "execution_count": 70,
   "metadata": {},
   "outputs": [
    {
     "data": {
      "image/png": "[encoded data removed]",
      "text/plain": [
       "<Figure size 640x300 with 2 Axes>"
      ]
     },
     "metadata": {},
     "output_type": "display_data"
    }
   ],
   "source": [
    "# quick visualization \n",
    "epochs.average().plot();"
   ]
  },
  {
   "cell_type": "code",
   "execution_count": 61,
   "metadata": {},
   "outputs": [
    {
     "name": "stdout",
     "output_type": "stream",
     "text": [
      "    Using multitaper spectrum estimation with 7 DPSS windows\n",
      "Averaging across epochs...\n"
     ]
    },
    {
     "data": {
      "image/png": "[encoded data removed]",
      "text/plain": [
       "<MNELineFigure size 1000x350 with 2 Axes>"
      ]
     },
     "execution_count": 61,
     "metadata": {},
     "output_type": "execute_result"
    }
   ],
   "source": [
    "epochs.compute_psd().plot()"
   ]
  },
  {
   "cell_type": "code",
   "execution_count": 63,
   "metadata": {},
   "outputs": [
    {
     "data": {
      "image/png": "[encoded data removed]",
      "text/plain": [
       "<Figure size 640x300 with 2 Axes>"
      ]
     },
     "metadata": {},
     "output_type": "display_data"
    }
   ],
   "source": [
    "epochs.average().plot_image();"
   ]
  },
  {
   "cell_type": "code",
   "execution_count": 66,
   "metadata": {},
   "outputs": [
    {
     "data": {
      "image/png": "[encoded data removed]",
      "text/plain": [
       "<Figure size 640x640 with 1 Axes>"
      ]
     },
     "metadata": {},
     "output_type": "display_data"
    }
   ],
   "source": [
    "epochs.plot_sensors(show_names=True);"
   ]
  },
  {
   "cell_type": "code",
   "execution_count": 67,
   "metadata": {},
   "outputs": [
    {
     "data": {
      "image/png": "[encoded data removed]",
      "text/plain": [
       "<Figure size 640x300 with 2 Axes>"
      ]
     },
     "metadata": {},
     "output_type": "display_data"
    }
   ],
   "source": [
    "epochs['Up'].average().plot();"
   ]
  },
  {
   "cell_type": "code",
   "execution_count": null,
   "metadata": {},
   "outputs": [],
   "source": []
  },
  {
   "cell_type": "code",
   "execution_count": 68,
   "metadata": {},
   "outputs": [
    {
     "data": {
      "text/plain": [
       "Text(0.5, 1.0, 'data before normalization')"
      ]
     },
     "execution_count": 68,
     "metadata": {},
     "output_type": "execute_result"
    }
   ],
   "source": [
    "plt.plot(df.iloc[:100000,0:32])\n",
    "plt.gcf().set_size_inches(30, 10)\n",
    "plt.title(\"data before normalization\")"
   ]
  },
  {
   "cell_type": "code",
   "execution_count": 29,
   "metadata": {
    "id": "nyG6qbLyp2sA"
   },
   "outputs": [],
   "source": [
    "scaler = MinMaxScaler(feature_range=(0,1))\n",
    "df[features] = scaler.fit_transform(df[features])"
   ]
  },
  {
   "cell_type": "code",
   "execution_count": 30,
   "metadata": {},
   "outputs": [
    {
     "data": {
      "text/html": [
       "<div>\n",
       "<style scoped>\n",
       "    .dataframe tbody tr th:only-of-type {\n",
       "        vertical-align: middle;\n",
       "    }\n",
       "\n",
       "    .dataframe tbody tr th {\n",
       "        vertical-align: top;\n",
       "    }\n",
       "\n",
       "    .dataframe thead th {\n",
       "        text-align: right;\n",
       "    }\n",
       "</style>\n",
       "<table border=\"1\" class=\"dataframe\">\n",
       "  <thead>\n",
       "    <tr style=\"text-align: right;\">\n",
       "      <th></th>\n",
       "      <th>Fp1</th>\n",
       "      <th>AF3</th>\n",
       "      <th>F7</th>\n",
       "      <th>F3</th>\n",
       "      <th>Fz</th>\n",
       "      <th>FC5</th>\n",
       "      <th>FC1</th>\n",
       "      <th>T7</th>\n",
       "      <th>C3</th>\n",
       "      <th>Cz</th>\n",
       "      <th>...</th>\n",
       "      <th>CP2</th>\n",
       "      <th>P4</th>\n",
       "      <th>P6</th>\n",
       "      <th>P8</th>\n",
       "      <th>PO4</th>\n",
       "      <th>O1</th>\n",
       "      <th>Oz</th>\n",
       "      <th>O2</th>\n",
       "      <th>Label</th>\n",
       "      <th>Trial</th>\n",
       "    </tr>\n",
       "  </thead>\n",
       "  <tbody>\n",
       "    <tr>\n",
       "      <th>49428</th>\n",
       "      <td>0.139119</td>\n",
       "      <td>0.085313</td>\n",
       "      <td>0.258299</td>\n",
       "      <td>0.190395</td>\n",
       "      <td>0.322342</td>\n",
       "      <td>0.298678</td>\n",
       "      <td>0.391492</td>\n",
       "      <td>0.501652</td>\n",
       "      <td>0.184750</td>\n",
       "      <td>0.124469</td>\n",
       "      <td>...</td>\n",
       "      <td>0.214085</td>\n",
       "      <td>0.376444</td>\n",
       "      <td>0.390963</td>\n",
       "      <td>0.356681</td>\n",
       "      <td>0.379462</td>\n",
       "      <td>0.438598</td>\n",
       "      <td>0.385606</td>\n",
       "      <td>0.471873</td>\n",
       "      <td>2.0</td>\n",
       "      <td>1.0</td>\n",
       "    </tr>\n",
       "    <tr>\n",
       "      <th>49429</th>\n",
       "      <td>0.138826</td>\n",
       "      <td>0.085255</td>\n",
       "      <td>0.258682</td>\n",
       "      <td>0.190675</td>\n",
       "      <td>0.321900</td>\n",
       "      <td>0.299825</td>\n",
       "      <td>0.391819</td>\n",
       "      <td>0.502558</td>\n",
       "      <td>0.186032</td>\n",
       "      <td>0.124973</td>\n",
       "      <td>...</td>\n",
       "      <td>0.215221</td>\n",
       "      <td>0.377246</td>\n",
       "      <td>0.391731</td>\n",
       "      <td>0.357338</td>\n",
       "      <td>0.380232</td>\n",
       "      <td>0.439747</td>\n",
       "      <td>0.386720</td>\n",
       "      <td>0.472624</td>\n",
       "      <td>2.0</td>\n",
       "      <td>1.0</td>\n",
       "    </tr>\n",
       "    <tr>\n",
       "      <th>49430</th>\n",
       "      <td>0.138534</td>\n",
       "      <td>0.085197</td>\n",
       "      <td>0.259064</td>\n",
       "      <td>0.190955</td>\n",
       "      <td>0.321424</td>\n",
       "      <td>0.301036</td>\n",
       "      <td>0.392087</td>\n",
       "      <td>0.503517</td>\n",
       "      <td>0.187338</td>\n",
       "      <td>0.125476</td>\n",
       "      <td>...</td>\n",
       "      <td>0.216295</td>\n",
       "      <td>0.378093</td>\n",
       "      <td>0.392478</td>\n",
       "      <td>0.357930</td>\n",
       "      <td>0.381065</td>\n",
       "      <td>0.440787</td>\n",
       "      <td>0.387708</td>\n",
       "      <td>0.473343</td>\n",
       "      <td>2.0</td>\n",
       "      <td>1.0</td>\n",
       "    </tr>\n",
       "    <tr>\n",
       "      <th>49431</th>\n",
       "      <td>0.138212</td>\n",
       "      <td>0.085110</td>\n",
       "      <td>0.259495</td>\n",
       "      <td>0.191337</td>\n",
       "      <td>0.320948</td>\n",
       "      <td>0.302310</td>\n",
       "      <td>0.392622</td>\n",
       "      <td>0.504422</td>\n",
       "      <td>0.188645</td>\n",
       "      <td>0.126046</td>\n",
       "      <td>...</td>\n",
       "      <td>0.217307</td>\n",
       "      <td>0.378896</td>\n",
       "      <td>0.393267</td>\n",
       "      <td>0.358522</td>\n",
       "      <td>0.381899</td>\n",
       "      <td>0.441784</td>\n",
       "      <td>0.388654</td>\n",
       "      <td>0.474063</td>\n",
       "      <td>2.0</td>\n",
       "      <td>1.0</td>\n",
       "    </tr>\n",
       "    <tr>\n",
       "      <th>49432</th>\n",
       "      <td>0.137890</td>\n",
       "      <td>0.085110</td>\n",
       "      <td>0.259925</td>\n",
       "      <td>0.191693</td>\n",
       "      <td>0.320472</td>\n",
       "      <td>0.303553</td>\n",
       "      <td>0.392950</td>\n",
       "      <td>0.505275</td>\n",
       "      <td>0.189927</td>\n",
       "      <td>0.126593</td>\n",
       "      <td>...</td>\n",
       "      <td>0.218278</td>\n",
       "      <td>0.379652</td>\n",
       "      <td>0.393971</td>\n",
       "      <td>0.359047</td>\n",
       "      <td>0.382647</td>\n",
       "      <td>0.442651</td>\n",
       "      <td>0.389516</td>\n",
       "      <td>0.474689</td>\n",
       "      <td>2.0</td>\n",
       "      <td>1.0</td>\n",
       "    </tr>\n",
       "    <tr>\n",
       "      <th>...</th>\n",
       "      <td>...</td>\n",
       "      <td>...</td>\n",
       "      <td>...</td>\n",
       "      <td>...</td>\n",
       "      <td>...</td>\n",
       "      <td>...</td>\n",
       "      <td>...</td>\n",
       "      <td>...</td>\n",
       "      <td>...</td>\n",
       "      <td>...</td>\n",
       "      <td>...</td>\n",
       "      <td>...</td>\n",
       "      <td>...</td>\n",
       "      <td>...</td>\n",
       "      <td>...</td>\n",
       "      <td>...</td>\n",
       "      <td>...</td>\n",
       "      <td>...</td>\n",
       "      <td>...</td>\n",
       "      <td>...</td>\n",
       "      <td>...</td>\n",
       "    </tr>\n",
       "    <tr>\n",
       "      <th>1965551</th>\n",
       "      <td>0.268111</td>\n",
       "      <td>0.264877</td>\n",
       "      <td>0.401320</td>\n",
       "      <td>0.397740</td>\n",
       "      <td>0.600150</td>\n",
       "      <td>0.571515</td>\n",
       "      <td>0.499033</td>\n",
       "      <td>0.637468</td>\n",
       "      <td>0.563539</td>\n",
       "      <td>0.411626</td>\n",
       "      <td>...</td>\n",
       "      <td>0.658860</td>\n",
       "      <td>0.674794</td>\n",
       "      <td>0.644942</td>\n",
       "      <td>0.634818</td>\n",
       "      <td>0.676264</td>\n",
       "      <td>0.763365</td>\n",
       "      <td>0.680938</td>\n",
       "      <td>0.601402</td>\n",
       "      <td>5.0</td>\n",
       "      <td>10.0</td>\n",
       "    </tr>\n",
       "    <tr>\n",
       "      <th>1965552</th>\n",
       "      <td>0.268081</td>\n",
       "      <td>0.265137</td>\n",
       "      <td>0.401607</td>\n",
       "      <td>0.398096</td>\n",
       "      <td>0.601101</td>\n",
       "      <td>0.571356</td>\n",
       "      <td>0.498081</td>\n",
       "      <td>0.637095</td>\n",
       "      <td>0.562716</td>\n",
       "      <td>0.411450</td>\n",
       "      <td>...</td>\n",
       "      <td>0.658715</td>\n",
       "      <td>0.674381</td>\n",
       "      <td>0.643960</td>\n",
       "      <td>0.633898</td>\n",
       "      <td>0.675922</td>\n",
       "      <td>0.761675</td>\n",
       "      <td>0.679572</td>\n",
       "      <td>0.600776</td>\n",
       "      <td>5.0</td>\n",
       "      <td>10.0</td>\n",
       "    </tr>\n",
       "    <tr>\n",
       "      <th>1965553</th>\n",
       "      <td>0.268023</td>\n",
       "      <td>0.265340</td>\n",
       "      <td>0.401894</td>\n",
       "      <td>0.398554</td>\n",
       "      <td>0.602155</td>\n",
       "      <td>0.571196</td>\n",
       "      <td>0.497219</td>\n",
       "      <td>0.636722</td>\n",
       "      <td>0.561870</td>\n",
       "      <td>0.411188</td>\n",
       "      <td>...</td>\n",
       "      <td>0.658633</td>\n",
       "      <td>0.674129</td>\n",
       "      <td>0.643000</td>\n",
       "      <td>0.633021</td>\n",
       "      <td>0.675623</td>\n",
       "      <td>0.760028</td>\n",
       "      <td>0.678227</td>\n",
       "      <td>0.600181</td>\n",
       "      <td>5.0</td>\n",
       "      <td>10.0</td>\n",
       "    </tr>\n",
       "    <tr>\n",
       "      <th>1965554</th>\n",
       "      <td>0.268023</td>\n",
       "      <td>0.265571</td>\n",
       "      <td>0.402181</td>\n",
       "      <td>0.398987</td>\n",
       "      <td>0.603175</td>\n",
       "      <td>0.571005</td>\n",
       "      <td>0.496415</td>\n",
       "      <td>0.636296</td>\n",
       "      <td>0.560878</td>\n",
       "      <td>0.411056</td>\n",
       "      <td>...</td>\n",
       "      <td>0.658447</td>\n",
       "      <td>0.673694</td>\n",
       "      <td>0.642019</td>\n",
       "      <td>0.632014</td>\n",
       "      <td>0.675217</td>\n",
       "      <td>0.758142</td>\n",
       "      <td>0.676777</td>\n",
       "      <td>0.599493</td>\n",
       "      <td>5.0</td>\n",
       "      <td>10.0</td>\n",
       "    </tr>\n",
       "    <tr>\n",
       "      <th>1965555</th>\n",
       "      <td>0.268023</td>\n",
       "      <td>0.265832</td>\n",
       "      <td>0.402420</td>\n",
       "      <td>0.399318</td>\n",
       "      <td>0.604195</td>\n",
       "      <td>0.570782</td>\n",
       "      <td>0.495344</td>\n",
       "      <td>0.635870</td>\n",
       "      <td>0.559813</td>\n",
       "      <td>0.410815</td>\n",
       "      <td>...</td>\n",
       "      <td>0.658137</td>\n",
       "      <td>0.673190</td>\n",
       "      <td>0.640931</td>\n",
       "      <td>0.631006</td>\n",
       "      <td>0.674747</td>\n",
       "      <td>0.756084</td>\n",
       "      <td>0.675200</td>\n",
       "      <td>0.598774</td>\n",
       "      <td>5.0</td>\n",
       "      <td>10.0</td>\n",
       "    </tr>\n",
       "  </tbody>\n",
       "</table>\n",
       "<p>700000 rows × 34 columns</p>\n",
       "</div>"
      ],
      "text/plain": [
       "              Fp1       AF3        F7        F3        Fz       FC5       FC1  \\\n",
       "49428    0.139119  0.085313  0.258299  0.190395  0.322342  0.298678  0.391492   \n",
       "49429    0.138826  0.085255  0.258682  0.190675  0.321900  0.299825  0.391819   \n",
       "49430    0.138534  0.085197  0.259064  0.190955  0.321424  0.301036  0.392087   \n",
       "49431    0.138212  0.085110  0.259495  0.191337  0.320948  0.302310  0.392622   \n",
       "49432    0.137890  0.085110  0.259925  0.191693  0.320472  0.303553  0.392950   \n",
       "...           ...       ...       ...       ...       ...       ...       ...   \n",
       "1965551  0.268111  0.264877  0.401320  0.397740  0.600150  0.571515  0.499033   \n",
       "1965552  0.268081  0.265137  0.401607  0.398096  0.601101  0.571356  0.498081   \n",
       "1965553  0.268023  0.265340  0.401894  0.398554  0.602155  0.571196  0.497219   \n",
       "1965554  0.268023  0.265571  0.402181  0.398987  0.603175  0.571005  0.496415   \n",
       "1965555  0.268023  0.265832  0.402420  0.399318  0.604195  0.570782  0.495344   \n",
       "\n",
       "               T7        C3        Cz  ...       CP2        P4        P6  \\\n",
       "49428    0.501652  0.184750  0.124469  ...  0.214085  0.376444  0.390963   \n",
       "49429    0.502558  0.186032  0.124973  ...  0.215221  0.377246  0.391731   \n",
       "49430    0.503517  0.187338  0.125476  ...  0.216295  0.378093  0.392478   \n",
       "49431    0.504422  0.188645  0.126046  ...  0.217307  0.378896  0.393267   \n",
       "49432    0.505275  0.189927  0.126593  ...  0.218278  0.379652  0.393971   \n",
       "...           ...       ...       ...  ...       ...       ...       ...   \n",
       "1965551  0.637468  0.563539  0.411626  ...  0.658860  0.674794  0.644942   \n",
       "1965552  0.637095  0.562716  0.411450  ...  0.658715  0.674381  0.643960   \n",
       "1965553  0.636722  0.561870  0.411188  ...  0.658633  0.674129  0.643000   \n",
       "1965554  0.636296  0.560878  0.411056  ...  0.658447  0.673694  0.642019   \n",
       "1965555  0.635870  0.559813  0.410815  ...  0.658137  0.673190  0.640931   \n",
       "\n",
       "               P8       PO4        O1        Oz        O2  Label  Trial  \n",
       "49428    0.356681  0.379462  0.438598  0.385606  0.471873    2.0    1.0  \n",
       "49429    0.357338  0.380232  0.439747  0.386720  0.472624    2.0    1.0  \n",
       "49430    0.357930  0.381065  0.440787  0.387708  0.473343    2.0    1.0  \n",
       "49431    0.358522  0.381899  0.441784  0.388654  0.474063    2.0    1.0  \n",
       "49432    0.359047  0.382647  0.442651  0.389516  0.474689    2.0    1.0  \n",
       "...           ...       ...       ...       ...       ...    ...    ...  \n",
       "1965551  0.634818  0.676264  0.763365  0.680938  0.601402    5.0   10.0  \n",
       "1965552  0.633898  0.675922  0.761675  0.679572  0.600776    5.0   10.0  \n",
       "1965553  0.633021  0.675623  0.760028  0.678227  0.600181    5.0   10.0  \n",
       "1965554  0.632014  0.675217  0.758142  0.676777  0.599493    5.0   10.0  \n",
       "1965555  0.631006  0.674747  0.756084  0.675200  0.598774    5.0   10.0  \n",
       "\n",
       "[700000 rows x 34 columns]"
      ]
     },
     "execution_count": 30,
     "metadata": {},
     "output_type": "execute_result"
    }
   ],
   "source": [
    "df"
   ]
  },
  {
   "cell_type": "code",
   "execution_count": 31,
   "metadata": {},
   "outputs": [
    {
     "data": {
      "text/plain": [
       "Text(0.5, 1.0, 'data after normalization')"
      ]
     },
     "execution_count": 31,
     "metadata": {},
     "output_type": "execute_result"
    }
   ],
   "source": [
    "plt.plot(df.iloc[:100000,0:32])\n",
    "plt.gcf().set_size_inches(30, 10)\n",
    "plt.title(\"data after normalization\")"
   ]
  },
  {
   "cell_type": "code",
   "execution_count": null,
   "metadata": {},
   "outputs": [],
   "source": []
  },
  {
   "cell_type": "markdown",
   "metadata": {},
   "source": [
    "### apply bandpass filter "
   ]
  },
  {
   "cell_type": "code",
   "execution_count": 32,
   "metadata": {},
   "outputs": [],
   "source": [
    "def butter_bandpass(lowcut, highcut, fs, order=5):\n",
    "    return butter(order, [lowcut, highcut], fs=fs, btype='band')\n",
    "\n",
    "def butter_bandpass_filter(data, lowcut, highcut, fs, order=5):\n",
    "    b, a = butter_bandpass(lowcut, highcut, fs, order=order)\n",
    "    y = lfilter(b, a, data)\n",
    "    return y"
   ]
  },
  {
   "cell_type": "code",
   "execution_count": 33,
   "metadata": {
    "colab": {
     "base_uri": "https://localhost:8080/",
     "height": 477
    },
    "id": "3gudnTVo4Vg-",
    "outputId": "f71707d3-4fb2-44f8-91a5-447dfb7916b8"
   },
   "outputs": [
    {
     "data": {
      "text/plain": [
       "Text(0.5, 1.0, 'data before filter')"
      ]
     },
     "execution_count": 33,
     "metadata": {},
     "output_type": "execute_result"
    }
   ],
   "source": [
    "plt.plot(df.iloc[:100000,0:15])\n",
    "plt.gcf().set_size_inches(30, 10)\n",
    "plt.title(\"data before filter\")"
   ]
  },
  {
   "cell_type": "code",
   "execution_count": 34,
   "metadata": {
    "id": "lB5-0tSepkI_"
   },
   "outputs": [],
   "source": [
    "df.iloc[:,0:15] = butter_bandpass_filter(df.iloc[:,0:15].to_numpy() ,8,30,2500) # keep only alpha & beta brain waves"
   ]
  },
  {
   "cell_type": "code",
   "execution_count": 35,
   "metadata": {
    "colab": {
     "base_uri": "https://localhost:8080/",
     "height": 472
    },
    "id": "sld1UKMRp2sC",
    "outputId": "305840ef-6dd2-40d3-884b-2d9659ff05e3"
   },
   "outputs": [
    {
     "data": {
      "text/plain": [
       "Text(0.5, 1.0, 'data after filter')"
      ]
     },
     "execution_count": 35,
     "metadata": {},
     "output_type": "execute_result"
    }
   ],
   "source": [
    "plt.plot(df.iloc[:100000,0:15])\n",
    "plt.gcf().set_size_inches(30, 10)\n",
    "plt.title(\"data after filter\")"
   ]
  },
  {
   "cell_type": "code",
   "execution_count": 36,
   "metadata": {},
   "outputs": [
    {
     "data": {
      "text/plain": [
       "Text(0.5, 1.0, 'Rest')"
      ]
     },
     "execution_count": 36,
     "metadata": {},
     "output_type": "execute_result"
    }
   ],
   "source": [
    "plt.plot(df.loc[ (df['Label']==6) & (df['Trial']==1)].iloc[:,:15])\n",
    "plt.gcf().set_size_inches(30, 10)\n",
    "plt.title(\"Rest\")"
   ]
  },
  {
   "cell_type": "code",
   "execution_count": 37,
   "metadata": {},
   "outputs": [
    {
     "data": {
      "text/plain": [
       "Text(0.5, 1.0, 'Forward')"
      ]
     },
     "execution_count": 37,
     "metadata": {},
     "output_type": "execute_result"
    }
   ],
   "source": [
    "plt.plot(df.loc[ (df['Label']==0) & (df['Trial']==1)].iloc[:,:15])\n",
    "plt.gcf().set_size_inches(30, 10)\n",
    "plt.title(\"Forward\")"
   ]
  },
  {
   "cell_type": "code",
   "execution_count": 38,
   "metadata": {},
   "outputs": [
    {
     "data": {
      "text/plain": [
       "Text(0.5, 1.0, 'Backward')"
      ]
     },
     "execution_count": 38,
     "metadata": {},
     "output_type": "execute_result"
    }
   ],
   "source": [
    "plt.plot(df.loc[ (df['Label']==1) & (df['Trial']==1)].iloc[:,:15])\n",
    "plt.gcf().set_size_inches(30, 10)\n",
    "plt.title(\"Backward\")"
   ]
  },
  {
   "cell_type": "code",
   "execution_count": 39,
   "metadata": {},
   "outputs": [
    {
     "data": {
      "text/plain": [
       "Text(0.5, 1.0, 'Left')"
      ]
     },
     "execution_count": 39,
     "metadata": {},
     "output_type": "execute_result"
    }
   ],
   "source": [
    "plt.plot(df.loc[ (df['Label']==2) & (df['Trial']==1)].iloc[:,:15])\n",
    "plt.gcf().set_size_inches(30, 10)\n",
    "plt.title(\"Left\")"
   ]
  },
  {
   "cell_type": "code",
   "execution_count": 40,
   "metadata": {},
   "outputs": [
    {
     "data": {
      "text/plain": [
       "Text(0.5, 1.0, 'Right')"
      ]
     },
     "execution_count": 40,
     "metadata": {},
     "output_type": "execute_result"
    }
   ],
   "source": [
    "plt.plot(df.loc[ (df['Label']==3) & (df['Trial']==1)].iloc[:,:15])\n",
    "plt.gcf().set_size_inches(30, 10)\n",
    "plt.title(\"Right\")"
   ]
  },
  {
   "cell_type": "code",
   "execution_count": 41,
   "metadata": {},
   "outputs": [
    {
     "data": {
      "text/plain": [
       "Text(0.5, 1.0, 'Up')"
      ]
     },
     "execution_count": 41,
     "metadata": {},
     "output_type": "execute_result"
    }
   ],
   "source": [
    "plt.plot(df.loc[ (df['Label']==4) & (df['Trial']==1)].iloc[:,:15])\n",
    "plt.gcf().set_size_inches(30, 10)\n",
    "plt.title(\"Up\")"
   ]
  },
  {
   "cell_type": "code",
   "execution_count": 42,
   "metadata": {},
   "outputs": [
    {
     "data": {
      "text/plain": [
       "Text(0.5, 1.0, 'Down')"
      ]
     },
     "execution_count": 42,
     "metadata": {},
     "output_type": "execute_result"
    }
   ],
   "source": [
    "plt.plot(df.loc[ (df['Label']==5) & (df['Trial']==1)].iloc[:,:15])\n",
    "plt.gcf().set_size_inches(30, 10)\n",
    "plt.title(\"Down\")"
   ]
  },
  {
   "cell_type": "code",
   "execution_count": 46,
   "metadata": {},
   "outputs": [
    {
     "data": {
      "text/plain": [
       "Text(0.5, 1.0, 'break')"
      ]
     },
     "execution_count": 46,
     "metadata": {},
     "output_type": "execute_result"
    }
   ],
   "source": [
    "plt.plot(df.iloc[37500:45000,:15])\n",
    "plt.gcf().set_size_inches(30, 10)\n",
    "plt.title(\"break\")"
   ]
  },
  {
   "cell_type": "markdown",
   "metadata": {},
   "source": [
    "### save the data into excel files"
   ]
  },
  {
   "cell_type": "code",
   "execution_count": 44,
   "metadata": {
    "id": "MRIoK2Wan5Me"
   },
   "outputs": [],
   "source": [
    "df.to_csv('D:\\EEG_ConvertedData\\Arm_reaching_Session1_RM_train.csv',index=False)"
   ]
  },
  {
   "cell_type": "code",
   "execution_count": null,
   "metadata": {
    "id": "0JeF4LmazkgE"
   },
   "outputs": [],
   "source": []
  },
  {
   "cell_type": "code",
   "execution_count": null,
   "metadata": {
    "id": "89GFgMMUtSlD"
   },
   "outputs": [],
   "source": []
  }
 ],
 "metadata": {
  "colab": {
   "provenance": []
  },
  "gpuClass": "standard",
  "kernelspec": {
   "display_name": "base",
   "language": "python",
   "name": "python3"
  },
  "language_info": {
   "codemirror_mode": {
    "name": "ipython",
    "version": 3
   },
   "file_extension": ".py",
   "mimetype": "text/x-python",
   "name": "python",
   "nbconvert_exporter": "python",
   "pygments_lexer": "ipython3",
   "version": "3.9.13"
  },
  "vscode": {
   "interpreter": {
    "hash": "a47d0e2911489018702d96dff3d34035493b3b1d45865abb5b89591fac2af3b0"
   }
  }
 },
 "nbformat": 4,
 "nbformat_minor": 1
}
